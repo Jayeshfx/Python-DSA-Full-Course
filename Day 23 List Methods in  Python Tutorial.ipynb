{
 "cells": [
  {
   "cell_type": "markdown",
   "metadata": {},
   "source": [
    "# List Methods in Python | Python Tutorial - Day #23\n",
    "- Repel : https://replit.com/@codewithharry/23-Day-23-List-Methods#main.py\n"
   ]
  },
  {
   "cell_type": "markdown",
   "metadata": {},
   "source": [
    "`list.sort() :`<br>\n",
    "- This method sorts the list in ascending order. The original list is updated\n",
    "\n"
   ]
  },
  {
   "cell_type": "code",
   "execution_count": 13,
   "metadata": {},
   "outputs": [
    {
     "name": "stdout",
     "output_type": "stream",
     "text": [
      "The list after Ascending will be : [1, 1, 1, 5, 6, 8, 9, 19, 999]\n",
      "\n",
      "The list after Descending will be : [888, 51, 48, 46, 19, 9, 1, 1, 1]\n",
      "\n",
      "The list after Reversing will be : [564, 'Piyush', 877, 'Jayesh']\n",
      "\n"
     ]
    }
   ],
   "source": [
    "l1 = [5,6,8,9,1,1,1,19,999]\n",
    "l1.sort()      # Making the list Ascending\n",
    "print(f\"The list after Ascending will be : {l1}\\n\")\n",
    "\n",
    "\n",
    "# Make the list in decreasing order.\n",
    "l2 =  [51,46,48,9,1,1,1,19,888]\n",
    "l2.sort(reverse=True)      # Making the list in Descending order\n",
    "print(f\"The list after Descending will be : {l2}\\n\")\n",
    "\n",
    "\n"
   ]
  },
  {
   "cell_type": "markdown",
   "metadata": {},
   "source": [
    "`reverse() :`<br>\n",
    "- This method reverses the order of the list."
   ]
  },
  {
   "cell_type": "code",
   "execution_count": 17,
   "metadata": {},
   "outputs": [
    {
     "name": "stdout",
     "output_type": "stream",
     "text": [
      "The list after Reversing will be : [564, 'Piyush', 877, 'Jayesh']\n",
      "\n",
      "The list after Ascending will be : [10, 999, 19, 1, 1, 1, 9, 8, 6, 5]\n",
      "\n"
     ]
    }
   ],
   "source": [
    "# Make the order in reverse way.\n",
    "l3 = [\"Jayesh\" , 877 , \"Piyush\" , 564]\n",
    "l3.reverse()\n",
    "print(f\"The list after Reversing will be : {l3}\\n\")\n",
    "\n",
    "\n",
    "l4 = [5,6,8,9,1,1,1,19,999 , 10 ]\n",
    "l4.reverse()      # Making the list Ascending\n",
    "print(f\"The list after Ascending will be : {l4}\\n\")"
   ]
  },
  {
   "cell_type": "markdown",
   "metadata": {},
   "source": [
    "`index() :`\n",
    "- This method returns the index of the first occurrence of the list item.\n",
    "- Note that indexing start with i.e first index will be [0].\n",
    "- The `index()` method in Python is independent of the order (ascending or descending) of the elements in the list. It returns the index of the first occurrence of the specified value in the list, based on the order of the elements as they are currently arranged in the list."
   ]
  },
  {
   "cell_type": "code",
   "execution_count": 9,
   "metadata": {},
   "outputs": [
    {
     "name": "stdout",
     "output_type": "stream",
     "text": [
      "4\n",
      "0\n",
      "[0, 2]\n"
     ]
    }
   ],
   "source": [
    "l5 = [5,6,8,9,1,1,1,19,989 , 210 ]\n",
    "\n",
    "print(l5.index(1))   # Gives the Index of 1 (first occurence)\n",
    "print(l5.index(5))   # Gives the Index of 5.\n",
    "\n",
    "# Find the index of 5 & 8 simultaneously\n",
    "\n",
    "indices = [l5.index(x) for x in (5, 8)]\n",
    "print(indices)  # Output: [0, 2]\n"
   ]
  },
  {
   "cell_type": "markdown",
   "metadata": {},
   "source": [
    "`count() :`\n",
    "- Returns the count of the number of items with the given value."
   ]
  },
  {
   "cell_type": "code",
   "execution_count": 11,
   "metadata": {},
   "outputs": [
    {
     "name": "stdout",
     "output_type": "stream",
     "text": [
      "5\n",
      "2\n",
      "5\n"
     ]
    }
   ],
   "source": [
    "l5 = [50,1,1,1,\"Jayesh\",\"Jayesh\",True,True]\n",
    "\n",
    "print(l5.count(1))\n",
    "print(l5.count(\"Jayesh\"))\n",
    "print(l5.count(True))\n"
   ]
  },
  {
   "cell_type": "markdown",
   "metadata": {},
   "source": [
    "`copy() :`\n",
    "- Returns copy of the list. This can be done to perform operations on the list without modifying the original list.\n",
    "- The copy() method returns a copy of the list. It does not modify the original list.\n",
    "- The copy() method returns a new list that is a copy of the original list.\n",
    "\n"
   ]
  },
  {
   "cell_type": "code",
   "execution_count": 20,
   "metadata": {},
   "outputs": [
    {
     "name": "stdout",
     "output_type": "stream",
     "text": [
      "['Added', 1, 1, 1, 'Boys', 'Jayesh', True, False] \n",
      "\n",
      "CHANGE AFTER USING COPY() FUNCTION \n",
      "\n",
      "[50, 1, 1, 1, 'Boys', 'Jayesh', True, False] \n",
      "\n",
      "['Added', 1, 1, 1, 'Boys', 'Jayesh', True, False] \n",
      "\n"
     ]
    }
   ],
   "source": [
    "\n",
    "l6 = [50, 1, 1, 1, \"Boys\", \"Jayesh\", True, False]\n",
    "New = l6                     # New is a reference to the original list l6\n",
    "New[0] = \"Added\"             # Modifying New will also modify l6 since they refer to the same list\n",
    "print(l6, \"\\n\"  )            # It will change the original list also.\n",
    "\n",
    "print(\"CHANGE AFTER USING COPY() FUNCTION \\n\")   # What is the use of copy():\n",
    "\n",
    "l6 = [50, 1, 1, 1, \"Boys\", \"Jayesh\", True, False]\n",
    "New = l6.copy()            # New is a shallow copy of l6, meaning it's a new list with the same elements\n",
    "New[0] = \"Added\"           # Modifying New will not affect l6 since it's a separate copy\n",
    "print(l6, \"\\n\")            #  # It will NOT change the original list and will impact only New.\n",
    "print(New, \"\\n\")  \n",
    "\n"
   ]
  },
  {
   "cell_type": "markdown",
   "metadata": {},
   "source": [
    "`append() :`\n",
    "- This method appends items to the end of the existing list.\n",
    "-  We cannot append multiple elements simultaneously in single method. "
   ]
  },
  {
   "cell_type": "code",
   "execution_count": 36,
   "metadata": {},
   "outputs": [
    {
     "data": {
      "text/plain": [
       "['Dog', 'Cat', 'Cow', 'Polar Bear']"
      ]
     },
     "execution_count": 36,
     "metadata": {},
     "output_type": "execute_result"
    }
   ],
   "source": [
    "# Add any other animal at the end of the Animal\n",
    "\n",
    "Animal = [\"Dog\",\"Cat\",\"Cow\"]\n",
    "Animal.append(\"Polar Bear\")\n",
    "Animal"
   ]
  },
  {
   "cell_type": "markdown",
   "metadata": {},
   "source": [
    "`insert() :`\n",
    "- This method inserts an item at the given index. User has to specify index and the item to be inserted within the insert() method."
   ]
  },
  {
   "cell_type": "code",
   "execution_count": 28,
   "metadata": {},
   "outputs": [
    {
     "name": "stdout",
     "output_type": "stream",
     "text": [
      "['voilet', 'green', 'indigo', 'blue']\n"
     ]
    }
   ],
   "source": [
    "# Insert 'green' at 1st index of the colors list.\n",
    "\n",
    "colors = [\"voilet\", \"indigo\", \"blue\"]\n",
    "#           [0]        [1]      [2]\n",
    "\n",
    "colors.insert(1, \"green\")   #inserts item at index 1\n",
    "# updated list: colors = [\"voilet\", \"green\", \"indigo\", \"blue\"]\n",
    "#       indexs              [0]       [1]       [2]      [3]\n",
    "\n",
    "print(colors)"
   ]
  },
  {
   "cell_type": "markdown",
   "metadata": {},
   "source": [
    "`extend() :`\n",
    "- This method adds an entire list or any other collection datatype (set, tuple, dictionary) to the existing list.\n",
    "- It does not modify the original list, instead it returns a new list with the elements of both"
   ]
  },
  {
   "cell_type": "code",
   "execution_count": 31,
   "metadata": {},
   "outputs": [
    {
     "name": "stdout",
     "output_type": "stream",
     "text": [
      "['voilet', 'indigo', 'blue', 'green', 'yellow', 'orange', 'red']\n",
      "['green', 'yellow', 'orange', 'red']\n"
     ]
    }
   ],
   "source": [
    "# add a list to a list\n",
    "colors = [\"voilet\", \"indigo\", \"blue\"]\n",
    "rainbow = [\"green\", \"yellow\", \"orange\", \"red\"]\n",
    "\n",
    "colors.extend(rainbow)\n",
    "print(colors)         # Colors list is extended by addition of rainbow list elements.\n",
    "print(rainbow)        # The rainbow list remains unchangesd."
   ]
  },
  {
   "cell_type": "markdown",
   "metadata": {},
   "source": [
    "`Concatenating two lists :`\n",
    "- You can simply concatenate two lists to join two lists.\n",
    "- It will create a new list by adding two refernence lists keeping the reference lists unchanged."
   ]
  },
  {
   "cell_type": "code",
   "execution_count": 32,
   "metadata": {},
   "outputs": [
    {
     "data": {
      "text/plain": [
       "['voilet', 'indigo', 'blue', 'green', 'yellow', 'orange', 'red']"
      ]
     },
     "execution_count": 32,
     "metadata": {},
     "output_type": "execute_result"
    }
   ],
   "source": [
    "colors = [\"voilet\", \"indigo\", \"blue\"]\n",
    "rainbow = [\"green\", \"yellow\", \"orange\", \"red\"]\n",
    "\n",
    "Colours = colors + rainbow\n",
    "Colours"
   ]
  }
 ],
 "metadata": {
  "kernelspec": {
   "display_name": "base",
   "language": "python",
   "name": "python3"
  },
  "language_info": {
   "codemirror_mode": {
    "name": "ipython",
    "version": 3
   },
   "file_extension": ".py",
   "mimetype": "text/x-python",
   "name": "python",
   "nbconvert_exporter": "python",
   "pygments_lexer": "ipython3",
   "version": "3.11.4"
  }
 },
 "nbformat": 4,
 "nbformat_minor": 2
}
