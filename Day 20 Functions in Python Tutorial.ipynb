{
 "cells": [
  {
   "cell_type": "markdown",
   "metadata": {},
   "source": [
    "# Functions in Python | Python Tutorial - Day #20\n",
    "- Repel : https://replit.com/@codewithharry/20-Day20-Functions\n"
   ]
  },
  {
   "cell_type": "markdown",
   "metadata": {},
   "source": [
    " ### <u> Python Functions </u> \n",
    "A function is a block of code that performs a specific task whenever it is called. In bigger programs, where we have large amounts of code, it is advisable to create or use existing functions that make the program flow organized and neat.\n",
    "\n",
    " ### <u> There are two types of functions:  </u> \n",
    "- Built-in functions\n",
    "- User-defined functions"
   ]
  },
  {
   "cell_type": "markdown",
   "metadata": {},
   "source": [
    "#### <u> 1. Built-in functions: </u>\n",
    "- These functions are defined and pre-coded in python. Some examples of built-in functions are as follows:\n",
    "- `min()`, `max()`, `len()`, `sum()`, `type()`, `range()`, `dict()`, `list()`, `tuple()`, `set()`, `print()`, etc.\n",
    "\n",
    "#### <u> 2. User-defined functions: </u>\n",
    "- We can create functions to perform specific tasks as per our needs. Such functions are called user-defined functions.\n",
    "- We can name them as per our personal choice.\n"
   ]
  },
  {
   "cell_type": "code",
   "execution_count": 29,
   "metadata": {},
   "outputs": [
    {
     "name": "stdout",
     "output_type": "stream",
     "text": [
      "The Prgram is excuted without looking for def funcion body\n"
     ]
    }
   ],
   "source": [
    "# Use of Pass in Function.\n",
    "# It is useful when you have to save function name for other work or when you dont know function body.\n",
    "\n",
    "def any_functio(a,b):\n",
    "    pass\n",
    "\n",
    "print(\"The Prgram is excuted without looking for def funcion body\")"
   ]
  },
  {
   "cell_type": "markdown",
   "metadata": {},
   "source": [
    "### 1. Arithmetic Mean (AM)\n",
    "The arithmetic mean is the sum of all the numbers divided by the number of terms.\n",
    "\n",
    "`Arithmetic Mean (AM) = (x₁ + x₂ + ... + xₙ) / n`\n",
    "\n",
    "\n"
   ]
  },
  {
   "cell_type": "code",
   "execution_count": 28,
   "metadata": {},
   "outputs": [
    {
     "name": "stdout",
     "output_type": "stream",
     "text": [
      "The Arithemetic Mean is : 11.5\n"
     ]
    }
   ],
   "source": [
    "# Question : Write a programe to create a function to Arithmetic Mean.\n",
    "\n",
    "import statistics as st\n",
    "\n",
    "A = float(input(\"Enter the Value of A: \"))\n",
    "B = float(input(\"Enter the Value of B: \"))\n",
    "\n",
    "def Arithmetic_mean(a,b):\n",
    "    return st.mean([A,B])\n",
    "\n",
    "print(f\"The Arithemetic Mean is : {Arithmetic_mean(A,B)}\")"
   ]
  },
  {
   "cell_type": "markdown",
   "metadata": {},
   "source": [
    "\n",
    "#### <u> 2. Geometric Mean (GM) </u>\n",
    "The geometric mean is the n-th root of the product of all the numbers.\n",
    "\n",
    "`Geometric Mean (GM) = (x₁ * x₂ * ... * xₙ)^(1/n)`"
   ]
  },
  {
   "cell_type": "code",
   "execution_count": 10,
   "metadata": {},
   "outputs": [
    {
     "name": "stdout",
     "output_type": "stream",
     "text": [
      "The Geometric Mean is :  5.477225575051661\n"
     ]
    }
   ],
   "source": [
    "# Question : Write a programe to create a function to compute Geometric Mean.\n",
    "\n",
    "A = float(input(\"Enter the Value of A: \"))\n",
    "B = float(input(\"Enter the Value of B: \"))\n",
    "\n",
    "def Geo_mean(a,b):              # A and B are arugements.\n",
    "    return (a*b)**0.5           # geo_mean = (a*b)**0.5     # Defining Fuction body to be executed.\n",
    "    print(\"The Geometric Mean is : \",geo_mean)\n",
    "\n",
    "Geo_mean(A,B)  # Using the Function"
   ]
  },
  {
   "cell_type": "markdown",
   "metadata": {},
   "source": [
    "\n",
    "#### <u> 3. Harmonic Mean (HM) </u>\n",
    "The harmonic mean is the number of terms divided by the sum of the reciprocals of the numbers.\n",
    "\n",
    "`Harmonic Mean (HM) = n / (1/x₁ + 1/x₂ + ... + 1/xₙ)`"
   ]
  },
  {
   "cell_type": "code",
   "execution_count": 25,
   "metadata": {},
   "outputs": [
    {
     "name": "stdout",
     "output_type": "stream",
     "text": [
      "The Harmonic Mean is: 0.21978021978021978\n"
     ]
    }
   ],
   "source": [
    "# Question : Write a programe to create a function to compute Harmonic Mean.\n",
    "\n",
    "A = float(input(\"Enter the Value of A: \"))\n",
    "B = float(input(\"Enter the Value of B: \"))\n",
    "\n",
    "def Harmonic_mean(a,b):\n",
    "    return 2/(a+b)\n",
    "\n",
    "print(f\"The Harmonic Mean is: {Harmonic_mean(7,2.1)}\")"
   ]
  }
 ],
 "metadata": {
  "kernelspec": {
   "display_name": "base",
   "language": "python",
   "name": "python3"
  },
  "language_info": {
   "codemirror_mode": {
    "name": "ipython",
    "version": 3
   },
   "file_extension": ".py",
   "mimetype": "text/x-python",
   "name": "python",
   "nbconvert_exporter": "python",
   "pygments_lexer": "ipython3",
   "version": "3.11.4"
  }
 },
 "nbformat": 4,
 "nbformat_minor": 2
}
