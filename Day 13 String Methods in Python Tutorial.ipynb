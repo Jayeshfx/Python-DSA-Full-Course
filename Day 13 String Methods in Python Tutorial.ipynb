{
 "cells": [
  {
   "cell_type": "markdown",
   "metadata": {},
   "source": [
    "# String Methods in Python | Python Tutorial \n",
    "- Repel : https://replit.com/@codewithharry/13-Day13-String-Methods#main.py"
   ]
  },
  {
   "cell_type": "code",
   "execution_count": 1,
   "metadata": {},
   "outputs": [
    {
     "data": {
      "text/plain": [
       "'SMALLL'"
      ]
     },
     "execution_count": 1,
     "metadata": {},
     "output_type": "execute_result"
    }
   ],
   "source": [
    "# upper()\n",
    "\n",
    "# Convert Lower case to upper case.\n",
    "Name = \"smalll\"\n",
    "Name.upper()"
   ]
  },
  {
   "cell_type": "code",
   "execution_count": 5,
   "metadata": {},
   "outputs": [
    {
     "data": {
      "text/plain": [
       "'large'"
      ]
     },
     "execution_count": 5,
     "metadata": {},
     "output_type": "execute_result"
    }
   ],
   "source": [
    "# lower()\n",
    "\n",
    "# Convert upper case to Lower case.\n",
    "Name = \"LARGE\"\n",
    "Name.lower()"
   ]
  },
  {
   "cell_type": "code",
   "execution_count": 2,
   "metadata": {},
   "outputs": [
    {
     "name": "stdout",
     "output_type": "stream",
     "text": [
      "Error: 'str' object does not support item assignment\n",
      "Original String: Hello, World!\n",
      "New String: Jello, World!\n"
     ]
    }
   ],
   "source": [
    "# STRINGS ARE IMMUTABLE.\n",
    "\n",
    "# Original string\n",
    "original_string = \"Hello, World!\"\n",
    "\n",
    "# Attempt to change the first character\n",
    "try:\n",
    "    original_string[0] = \"J\"\n",
    "except TypeError as e:\n",
    "    print(f\"Error: {e}\")\n",
    "\n",
    "# Create a new string with the desired change\n",
    "new_string = \"J\" + original_string[1:]\n",
    "\n",
    "print(\"Original String:\", original_string)\n",
    "print(\"New String:\", new_string)\n"
   ]
  },
  {
   "cell_type": "code",
   "execution_count": 14,
   "metadata": {},
   "outputs": [
    {
     "name": "stdout",
     "output_type": "stream",
     "text": [
      " !!! Hello !!!\n"
     ]
    },
    {
     "data": {
      "text/plain": [
       "' !!! Hello '"
      ]
     },
     "execution_count": 14,
     "metadata": {},
     "output_type": "execute_result"
    }
   ],
   "source": [
    "#  rtrip()\n",
    "# It only eliminates the chararcters from the back and not from the leading characters.\n",
    "\n",
    "a =\" !!! Hello !!!\"\n",
    "print(a)\n",
    "\n",
    "a.rstrip(\"!\")"
   ]
  },
  {
   "cell_type": "code",
   "execution_count": 10,
   "metadata": {},
   "outputs": [
    {
     "name": "stdout",
     "output_type": "stream",
     "text": [
      "India is my country\n"
     ]
    }
   ],
   "source": [
    "# replace()\n",
    "# It is used to repalce the variables with another string\n",
    "\n",
    "a = \"inDIa is my country\"\n",
    "print(a.replace(\"inDIa\",\"India\"))"
   ]
  },
  {
   "cell_type": "code",
   "execution_count": 1,
   "metadata": {},
   "outputs": [
    {
     "name": "stdout",
     "output_type": "stream",
     "text": [
      "['Statistics', 'is', 'a', 'tough', 'subject', 'ever', 'seen']\n",
      "['He', 'is', 'a', 'good', 'boy']\n"
     ]
    }
   ],
   "source": [
    "# split()\n",
    "\n",
    "String = \"Statistics is a tough subject ever seen\"\n",
    "print(String.split(\" \"))\n",
    "\n",
    "String = \"He_is_a_good_boy\"\n",
    "print(String.split(\"_\"))"
   ]
  },
  {
   "cell_type": "markdown",
   "metadata": {},
   "source": [
    "# capitalize() V/s title()\n",
    "- capitalize() :\n",
    " - - The capitalize() method turns only the first character of the string to uppercase and the rest other characters of the string are turned to lowercase. The string has no effect if the first character is already uppercase.\n",
    "# \n",
    "- title():\n",
    "- - The title() method turns only the first character of the every word to uppercase and the rest other characters of the string are turned to lowercase. "
   ]
  },
  {
   "cell_type": "code",
   "execution_count": 13,
   "metadata": {},
   "outputs": [
    {
     "name": "stdout",
     "output_type": "stream",
     "text": [
      "India is my country\n",
      "India Is My Country\n",
      "India Is My Country\n"
     ]
    }
   ],
   "source": [
    "# Convert the first letter of sentence from small to capital.\n",
    "\n",
    "Sentence = \"indIA is My coUNTry\"\n",
    "print(Sentence.capitalize())\n",
    "\n",
    "# To capitalize the first letter of every word:\n",
    "Sentence = \"india is my country\"\n",
    "Sentence_title = Sentence.title()\n",
    "print(Sentence_title)\n",
    "\n",
    "Sentence_title = Sentence.title()\n",
    "print(Sentence_title)"
   ]
  },
  {
   "cell_type": "markdown",
   "metadata": {},
   "source": [
    "- center() Method\n",
    "- -   The center() method aligns the string to the center as per the parameters given by the user."
   ]
  },
  {
   "cell_type": "code",
   "execution_count": 23,
   "metadata": {},
   "outputs": [
    {
     "name": "stdout",
     "output_type": "stream",
     "text": [
      "WELCOME TO THE VSCODE\n",
      "21\n",
      "             WELCOME TO THE VSCODE              \n",
      "21\n",
      "_______________________________________WELCOME TO THE VSCODE________________________________________\n",
      "21\n"
     ]
    }
   ],
   "source": [
    "str = \"WELCOME TO THE VSCODE\"\n",
    "\n",
    "print(str)\n",
    "print(len(str))\n",
    "\n",
    "print(str.center(48))\n",
    "print(len(str))\n",
    "\n",
    "print(str.center(100, \"_\")) # It take 100 incrase by 100 character places.\n",
    "print(len(str))\n"
   ]
  },
  {
   "cell_type": "markdown",
   "metadata": {},
   "source": [
    "- count()\n",
    "- - The count() method returns the number of times the given value has occurred within the given string."
   ]
  },
  {
   "cell_type": "code",
   "execution_count": 1,
   "metadata": {},
   "outputs": [
    {
     "data": {
      "text/plain": [
       "4"
      ]
     },
     "execution_count": 1,
     "metadata": {},
     "output_type": "execute_result"
    }
   ],
   "source": [
    "Sentence = \"She said that that 'that' that she used was incorrect.\"\n",
    "Sentence.count(\"that\")"
   ]
  },
  {
   "cell_type": "code",
   "execution_count": 54,
   "metadata": {},
   "outputs": [
    {
     "name": "stdout",
     "output_type": "stream",
     "text": [
      "True\n",
      "False\n",
      "True\n"
     ]
    }
   ],
   "source": [
    "# startswith() :\n",
    "# The endswith() method checks if the string starts with a given value. If yes then return True, else return False.\n",
    "\n",
    "str = \" Thank You!\"\n",
    "print(str.startswith(\" Thank\"))\n",
    "print(str.startswith(\"Thank\"))\n",
    "print(str.startswith(\" Th\"))"
   ]
  },
  {
   "cell_type": "code",
   "execution_count": 7,
   "metadata": {},
   "outputs": [
    {
     "name": "stdout",
     "output_type": "stream",
     "text": [
      "True\n",
      "False\n",
      "True\n"
     ]
    }
   ],
   "source": [
    "# endswith() :\n",
    "# The endswith() method checks if the string ends with a given value. If yes then return True, else return False.\n",
    "\n",
    "str = \"Thank You!\"\n",
    "print(str.endswith(\"You!\"))\n",
    "print(str.endswith(\"You\"))\n",
    "print(str.endswith(\"!\"))"
   ]
  },
  {
   "cell_type": "code",
   "execution_count": 9,
   "metadata": {},
   "outputs": [
    {
     "name": "stdout",
     "output_type": "stream",
     "text": [
      "True\n"
     ]
    }
   ],
   "source": [
    "# Does the string endswith to when we consider only string from 4th to 10th index.\n",
    "\n",
    "str1 = \"Welcome to the Console !!!\"\n",
    "print(str1.endswith(\"to\", 4, 10))   "
   ]
  },
  {
   "cell_type": "code",
   "execution_count": 13,
   "metadata": {},
   "outputs": [
    {
     "name": "stdout",
     "output_type": "stream",
     "text": [
      "7\n",
      "-1\n"
     ]
    }
   ],
   "source": [
    "# find() :\n",
    "# The find() method searches for the first occurrence of the given value and returns the index where it is present. \n",
    "# If given value is absent from the string then return -1.\n",
    "\n",
    "str = \"I am a Python Programmer and Python is language\"\n",
    "print(str.find(\"Python\")) # Present value\n",
    "print(str.find(\"Java\"))  # Absent values"
   ]
  },
  {
   "cell_type": "code",
   "execution_count": 17,
   "metadata": {},
   "outputs": [
    {
     "name": "stdout",
     "output_type": "stream",
     "text": [
      "13\n",
      "30\n"
     ]
    },
    {
     "ename": "ValueError",
     "evalue": "substring not found",
     "output_type": "error",
     "traceback": [
      "\u001b[1;31m---------------------------------------------------------------------------\u001b[0m",
      "\u001b[1;31mValueError\u001b[0m                                Traceback (most recent call last)",
      "Cell \u001b[1;32mIn[17], line 8\u001b[0m\n\u001b[0;32m      6\u001b[0m \u001b[38;5;28mprint\u001b[39m(str1\u001b[38;5;241m.\u001b[39mindex(\u001b[38;5;124m\"\u001b[39m\u001b[38;5;124mDan\u001b[39m\u001b[38;5;124m\"\u001b[39m))  \u001b[38;5;66;03m# Full set present\u001b[39;00m\n\u001b[0;32m      7\u001b[0m \u001b[38;5;28mprint\u001b[39m(str1\u001b[38;5;241m.\u001b[39mindex(\u001b[38;5;124m\"\u001b[39m\u001b[38;5;124mnest\u001b[39m\u001b[38;5;124m\"\u001b[39m)) \u001b[38;5;66;03m# sunbset present\u001b[39;00m\n\u001b[1;32m----> 8\u001b[0m \u001b[38;5;28mprint\u001b[39m(str1\u001b[38;5;241m.\u001b[39mindex(\u001b[38;5;124m\"\u001b[39m\u001b[38;5;124mGOF\u001b[39m\u001b[38;5;124m\"\u001b[39m))\n",
      "\u001b[1;31mValueError\u001b[0m: substring not found"
     ]
    }
   ],
   "source": [
    "# index() :\n",
    "# The index() method searches for the first occurrence of the given value and returns the index where it is present. \n",
    "# If given value is absent from the string then raise an exception.\n",
    "\n",
    "str1 = \"He's name is Dan. Dan is an honest man.\"\n",
    "print(str1.index(\"Dan\"))  # Full set present\n",
    "print(str1.index(\"nest\")) # sunbset present\n",
    "print(str1.index(\"GOF\"))  # sunbset Absent"
   ]
  },
  {
   "cell_type": "code",
   "execution_count": 25,
   "metadata": {},
   "outputs": [
    {
     "name": "stdout",
     "output_type": "stream",
     "text": [
      "False\n",
      "True\n"
     ]
    }
   ],
   "source": [
    "# isalnum() :\n",
    "# The isalnum() method returns True only if the entire string only consists of A-Z, a-z, 0-9. \n",
    "# If any other characters or punctuations are present, then it returns False.\n",
    "\n",
    "str1 = \"6 has 3 letters in it\"\n",
    "str2 = \"6has3lettersinit\"\n",
    "\n",
    "print(str1.isalnum()) # consists only  A-Z, a-z, 0-9. \n",
    "print(str2.isalnum()) # Contain extra characters other than  A-Z, a-z, 0-9. "
   ]
  },
  {
   "cell_type": "code",
   "execution_count": 31,
   "metadata": {},
   "outputs": [
    {
     "name": "stdout",
     "output_type": "stream",
     "text": [
      "False\n",
      "False\n",
      "True\n"
     ]
    }
   ],
   "source": [
    "# isalpha() :\n",
    "# The isalnum() method returns True only if the entire string only consists of A-Z, a-z. \n",
    "# If any other characters or punctuations or numbers(0-9) are present, then it returns False.\n",
    "\n",
    "str1 = \"6 has 3 letters in it\"\n",
    "str2 = \" He is a good boy\"\n",
    "str3 = \"Heisagoodboy\"\n",
    "\n",
    "print(str1.isalpha()) # consists A-Z, a-z, 0-9. \n",
    "print(str2.isalpha()) # Contain A-Z and a-z along with spaces \n",
    "print(str3.isalpha()) # Contain A-Z and a-z only."
   ]
  },
  {
   "cell_type": "code",
   "execution_count": 35,
   "metadata": {},
   "outputs": [
    {
     "name": "stdout",
     "output_type": "stream",
     "text": [
      "True\n",
      "False\n"
     ]
    }
   ],
   "source": [
    "# islower() :\n",
    "# The islower() method returns True if all the characters in the string are lower case, else it returns False.\n",
    "\n",
    "str = \"can i go\"\n",
    "print(str.islower())\n",
    "\n",
    "str = \"can I go\"\n",
    "print(str.islower())"
   ]
  },
  {
   "cell_type": "code",
   "execution_count": 4,
   "metadata": {},
   "outputs": [
    {
     "name": "stdout",
     "output_type": "stream",
     "text": [
      "Hello, World!\n",
      "H e l l o, W o r l d!\n"
     ]
    }
   ],
   "source": [
    "# strip() :\n",
    "#   This function removes leading and trailing whitespaces from a string.\n",
    "#   It does not remove whitespaces from the middle of the string.\n",
    "\n",
    "str1 = \"   Hello, World!   \" \n",
    "print(str.strip())  \n",
    "\n",
    "str2 = \"   H e l l o, W o r l d!   \"  #   It does not remove whitespaces from the middle of the string.\n",
    "print(str2.strip())     \n"
   ]
  },
  {
   "cell_type": "code",
   "execution_count": 39,
   "metadata": {},
   "outputs": [
    {
     "name": "stdout",
     "output_type": "stream",
     "text": [
      "True\n",
      "False\n"
     ]
    }
   ],
   "source": [
    "# isprintable():\n",
    "# The isprintable() method returns True if all characters in the string are printable, otherwise it returns False.\n",
    "\n",
    "# Defining a string with only printable characters\n",
    "str1 = \"I am JAYESH of Statistics\"\n",
    "print(str1.isprintable())                # This should return True\n",
    "\n",
    "# Defining a string with unprintable characters (newline character)\n",
    "str2 = \"I am JAYESH of Statistics\\n\"\n",
    "print(str2.isprintable())                # This should return False"
   ]
  },
  {
   "cell_type": "code",
   "execution_count": 41,
   "metadata": {},
   "outputs": [
    {
     "name": "stdout",
     "output_type": "stream",
     "text": [
      "False\n",
      "False\n"
     ]
    }
   ],
   "source": [
    "# isspace() :\n",
    "# The isspace() method returns True only and only if the string contains white spaces, else returns False.\n",
    "\n",
    "str2 = \"He is a good boy\"\n",
    "str3 = \"Heisagoodboy\"\n",
    "\n",
    "print(str2.isspace())\n",
    "print(str3.isspace())"
   ]
  },
  {
   "cell_type": "code",
   "execution_count": 45,
   "metadata": {},
   "outputs": [
    {
     "name": "stdout",
     "output_type": "stream",
     "text": [
      "True\n",
      "True\n"
     ]
    }
   ],
   "source": [
    "str1 = \"     \"       #using Spacebar\n",
    "print(str1.isspace())\n",
    "str2 = \"    \"        #using Tab\n",
    "print(str2.isspace())"
   ]
  },
  {
   "cell_type": "code",
   "execution_count": 48,
   "metadata": {},
   "outputs": [
    {
     "name": "stdout",
     "output_type": "stream",
     "text": [
      "True\n",
      "False\n"
     ]
    }
   ],
   "source": [
    "# istitle() :\n",
    "# The istitile() returns True only if the first letter of each word of the string is capitalized, else it returns False.\n",
    "\n",
    "str= \"The Lion King\"\n",
    "print(str.istitle())\n",
    "\n",
    "str= \"The lion king\"\n",
    "print(str.istitle())"
   ]
  },
  {
   "cell_type": "code",
   "execution_count": 49,
   "metadata": {},
   "outputs": [
    {
     "name": "stdout",
     "output_type": "stream",
     "text": [
      "True\n",
      "False\n"
     ]
    }
   ],
   "source": [
    "# isupper() :\n",
    "# The isupper() method returns True if all the characters in the string are upper case, else it returns False.\n",
    "\n",
    "str1 = \"THAT\"\n",
    "str2 = \"that\"\n",
    "\n",
    "print(str1.isupper())\n",
    "print(str2.isupper())"
   ]
  },
  {
   "cell_type": "code",
   "execution_count": 60,
   "metadata": {},
   "outputs": [
    {
     "name": "stdout",
     "output_type": "stream",
     "text": [
      "i am original captial\n",
      "I AM ORIGINAL SMALL\n"
     ]
    }
   ],
   "source": [
    "# swapcase() :\n",
    "# The swapcase() method changes the character casing of the string. Upper case are converted to lower case and lower case to upper case.\n",
    "\n",
    "str1 = \"I AM ORIGINAL CAPTIAL\"\n",
    "str2 = \"i am original small\"\n",
    "\n",
    "print(str1.swapcase())\n",
    "print(str2.swapcase())"
   ]
  }
 ],
 "metadata": {
  "kernelspec": {
   "display_name": "base",
   "language": "python",
   "name": "python3"
  },
  "language_info": {
   "codemirror_mode": {
    "name": "ipython",
    "version": 3
   },
   "file_extension": ".py",
   "mimetype": "text/x-python",
   "name": "python",
   "nbconvert_exporter": "python",
   "pygments_lexer": "ipython3",
   "version": "3.11.4"
  }
 },
 "nbformat": 4,
 "nbformat_minor": 2
}
