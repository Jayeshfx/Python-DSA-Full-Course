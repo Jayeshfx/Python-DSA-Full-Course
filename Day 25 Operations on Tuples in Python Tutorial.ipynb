{
 "cells": [
  {
   "cell_type": "markdown",
   "metadata": {},
   "source": [
    "# **Operations on Tuples in Python | Python Tutorial - Day #25**\n",
    "- Repel : https://replit.com/@codewithharry/25-Day25-Operations-on-Tuples#main.py"
   ]
  },
  {
   "cell_type": "markdown",
   "metadata": {},
   "source": [
    " #### <u> **Manipulating Tuples** :  </u>\n",
    "- Tuples are immutable, hence if you want to add, remove or change tuple items, then first you must convert the tuple to a list. \n",
    "- Then perform operation on that list and convert it back to tuple."
   ]
  },
  {
   "cell_type": "code",
   "execution_count": 3,
   "metadata": {},
   "outputs": [
    {
     "name": "stdout",
     "output_type": "stream",
     "text": [
      "['India', 'China', 'Isarel', 'France']\n",
      "('India', 'China', 'Isarel', 'France', 'Pakistan')\n"
     ]
    }
   ],
   "source": [
    "# Question : Manipulate the list and add another element that Tuple.\n",
    "\n",
    "country = (\"India\", \"China\", \"Isarel\",\"France\" )\n",
    "country = list(country)                          # Converting the tuple to list\n",
    "print(country)\n",
    " \n",
    "country.append(\"Pakistan\")  # Adding element to list\n",
    "country = tuple(country)    # Converting back to the tuple\n",
    "print(country)"
   ]
  },
  {
   "cell_type": "code",
   "execution_count": 18,
   "metadata": {},
   "outputs": [
    {
     "name": "stdout",
     "output_type": "stream",
     "text": [
      "['India', 'China', 'Isarel', 'France', 'Brazil', 'Japan']\n",
      "('India', 'China', 'Isarel', 'France', 'Japan')\n"
     ]
    }
   ],
   "source": [
    "# Question : Manipulate the list and pop element from that Tuple.\n",
    "\n",
    "country = (\"India\", \"China\", \"Isarel\",\"France\",\"Brazil\",\"Japan\" )\n",
    "country = list(country)      # Converting the tuple to list\n",
    "print(country)\n",
    " \n",
    "country.pop(-2 )             # pop Brazil element from the list.\n",
    "country = tuple(country)    # Converting back to the tuple\n",
    "print(country)"
   ]
  },
  {
   "cell_type": "code",
   "execution_count": 20,
   "metadata": {},
   "outputs": [
    {
     "name": "stdout",
     "output_type": "stream",
     "text": [
      "('India', 'Russia', 'China')\n",
      "('Egypt', 'South Africa', 'Morocco')\n"
     ]
    },
    {
     "data": {
      "text/plain": [
       "('India', 'Russia', 'China', 'Egypt', 'South Africa', 'Morocco')"
      ]
     },
     "execution_count": 20,
     "metadata": {},
     "output_type": "execute_result"
    }
   ],
   "source": [
    "# We can concatenate two tuples without converting them to list.\n",
    "\n",
    "Asia = (\"India\",\"Russia\",\"China\")\n",
    "Africa = (\"Egypt\",\"South Africa\",\"Morocco\")\n",
    "\n",
    "print(Asia) ; print(Africa)\n",
    "\n",
    "country = Asia + Africa\n",
    "country\n",
    "\n"
   ]
  },
  {
   "cell_type": "markdown",
   "metadata": {},
   "source": [
    "#### <u> Tuple methods: </u>\n",
    "As tuple is immutable type of collection of elements it have limited built in methods.\n",
    "- count() Method\n",
    "- index() method\n",
    "- Syntax : `tuple.count(element)`\n",
    "\n"
   ]
  },
  {
   "cell_type": "markdown",
   "metadata": {},
   "source": [
    "`count() Method :`\n",
    "- The count() method of Tuple returns the number of times the given element appears in the tuple."
   ]
  },
  {
   "cell_type": "code",
   "execution_count": 22,
   "metadata": {},
   "outputs": [
    {
     "name": "stdout",
     "output_type": "stream",
     "text": [
      "Count of 3 in Tuple1 is: 3\n"
     ]
    }
   ],
   "source": [
    "Tuple1 = (0, 1, 2, 3, 2, 3, 1, 3, 2)\n",
    "cnt = Tuple1.count(3)\n",
    "print('Count in Tuple1 is:', cnt)"
   ]
  },
  {
   "cell_type": "markdown",
   "metadata": {},
   "source": [
    "`index() method :`\n",
    "- The Index() method returns the first occurrence of the given element from the tuple."
   ]
  },
  {
   "cell_type": "code",
   "execution_count": 35,
   "metadata": {},
   "outputs": [
    {
     "name": "stdout",
     "output_type": "stream",
     "text": [
      "Count in Tuple1 is: 2\n",
      "Count in Tuple1 is: 9\n"
     ]
    }
   ],
   "source": [
    "Tuple2 = (10, 11, 1,1,1,1,1, 13, 52,\"Jayesh\",\"Jayesh\",\"Jayesh\",\"Jayesh\")\n",
    "\n",
    "idx = Tuple2.index(1)         # Get the Index of first occurence of 1\n",
    "idxx = Tuple2.index(\"Jayesh\") # Get the Index of first occurence of \"Jayesh\"\n",
    "\n",
    "print('Count in Tuple1 is:', idx)\n",
    "print('Count in Tuple1 is:', idxx)"
   ]
  },
  {
   "cell_type": "code",
   "execution_count": 48,
   "metadata": {},
   "outputs": [
    {
     "name": "stdout",
     "output_type": "stream",
     "text": [
      "7\n"
     ]
    },
    {
     "data": {
      "text/plain": [
       "9"
      ]
     },
     "execution_count": 48,
     "metadata": {},
     "output_type": "execute_result"
    }
   ],
   "source": [
    "Tuple =   (377, 377, 377,  3 ,  4 , 55,  6,  377, 28)\n",
    "# Indices: [0]  [1]  [2]  [3]  [4]  [5] [6]  [7]  [8]\n",
    "\n",
    "\n",
    "# Use the .index(element, start, end) method to find the index of the value 3 in the tuple.\n",
    "# 'element' : The value you're searching for.\n",
    "# 'start'   : The starting index of the range where the search begins.\n",
    "# 'end'     : The stopping index (not inclusive) where the search ends.\n",
    "res = Tuple.index(377, 4, 8)\n",
    "print(res)\n",
    "\n",
    "# Lenfth of tuple\n",
    "len(Tuple)"
   ]
  }
 ],
 "metadata": {
  "kernelspec": {
   "display_name": "base",
   "language": "python",
   "name": "python3"
  },
  "language_info": {
   "codemirror_mode": {
    "name": "ipython",
    "version": 3
   },
   "file_extension": ".py",
   "mimetype": "text/x-python",
   "name": "python",
   "nbconvert_exporter": "python",
   "pygments_lexer": "ipython3",
   "version": "3.11.4"
  }
 },
 "nbformat": 4,
 "nbformat_minor": 2
}
