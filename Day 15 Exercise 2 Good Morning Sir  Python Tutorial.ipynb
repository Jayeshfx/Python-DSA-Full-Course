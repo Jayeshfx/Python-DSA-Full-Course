{
 "cells": [
  {
   "cell_type": "markdown",
   "metadata": {},
   "source": [
    "# Exercise 2: Good Morning Sir | Python Tutorial - Day #15\n",
    "- Repel Link: https://replit.com/@codewithharry/15-Day15-Exercise-2-Good-Morning-Sir\n",
    "#\n",
    "- Time access and conversions : https://docs.python.org/3/library/time.html#time.strftime"
   ]
  },
  {
   "cell_type": "markdown",
   "metadata": {},
   "source": [
    "Question:\n",
    "- Create a python program capable of greeting you with Good Morning, Good Afternoon and Good Evening. \n",
    "Your program should use time module to get the current hour."
   ]
  },
  {
   "cell_type": "markdown",
   "metadata": {},
   "source": [
    "This Python code is used to obtain the current time in the format `HH:MM:SS` (Hours:Minutes:Seconds) and print it. Here’s a breakdown of the code:\n",
    "\n",
    "1. `import time`:\n",
    "   - This line imports the `time` module, which provides various time-related functions.\n",
    "\n",
    "2. `timestamp = time.strftime('%H:%M:%S')`:\n",
    "   - The `strftime` function from the `time` module is used to format the current time as a string.\n",
    "   - `'%H:%M:%S'` specifies the format:\n",
    "     - `%H` represents the hour in 24-hour format (00 to 23).\n",
    "     - `%M` represents the minutes (00 to 59).\n",
    "     - `%S` represents the seconds (00 to 59).\n",
    "   - The result is a string representing the current time, which is stored in the variable `timestamp`.\n",
    "\n",
    "3. `print(timestamp)`:\n",
    "   - This line prints the `timestamp` variable, which contains the formatted current time.\n"
   ]
  },
  {
   "cell_type": "code",
   "execution_count": 2,
   "metadata": {},
   "outputs": [
    {
     "name": "stdout",
     "output_type": "stream",
     "text": [
      "23:19:39\n",
      "23\n",
      "19\n",
      "39\n",
      "<class 'str'>\n"
     ]
    }
   ],
   "source": [
    "import time\n",
    "timestamp = time.strftime('%H:%M:%S')\n",
    "print(timestamp)\n",
    "timestamp = time.strftime('%H')\n",
    "print(timestamp)\n",
    "timestamp = time.strftime('%M')\n",
    "print(timestamp)\n",
    "timestamp = time.strftime('%S')\n",
    "print(timestamp)\n",
    "\n",
    "print(type(timestamp))   # It will show the type as str since we have used strftime()"
   ]
  },
  {
   "cell_type": "markdown",
   "metadata": {},
   "source": [
    "Here is a table of format codes used in Python's `time.strftime` method and what they represent:\n",
    "\n",
    "| Format Code | Description                                      | Example  |\n",
    "|-------------|--------------------------------------------------|----------|\n",
    "| `%a`        | Abbreviated weekday name                         | `Sun`    |\n",
    "| `%A`        | Full weekday name                                | `Sunday` |\n",
    "| `%w`        | Weekday as a decimal number (0 = Sunday)         | `0`      |\n",
    "| `%d`        | Day of the month as a zero-padded decimal        | `01`     |\n",
    "| `%b`        | Abbreviated month name                           | `Jan`    |\n",
    "| `%B`        | Full month name                                  | `January`|\n",
    "| `%m`        | Month as a zero-padded decimal number (01-12)    | `01`     |\n",
    "| `%y`        | Year without century as a zero-padded decimal    | `24`     |\n",
    "| `%Y`        | Year with century                                | `2024`   |\n",
    "| `%H`        | Hour (24-hour clock) as a zero-padded decimal    | `14`     |\n",
    "| `%I`        | Hour (12-hour clock) as a zero-padded decimal    | `02`     |\n",
    "| `%p`        | AM or PM                                         | `PM`     |\n",
    "| `%M`        | Minute as a zero-padded decimal                  | `30`     |\n",
    "| `%S`        | Second as a zero-padded decimal                  | `45`     |\n",
    "| `%f`        | Microsecond as a decimal number, zero-padded to 6 digits | `000000`|\n",
    "| `%z`        | UTC offset in the form ±HHMM                     | `+0000`  |\n",
    "| `%Z`        | Time zone name                                   | `UTC`    |\n",
    "| `%j`        | Day of the year as a zero-padded decimal (001-366)| `365`    |\n",
    "| `%U`        | Week number of the year (Sunday as the first day of the week) | `52`  |\n",
    "| `%W`        | Week number of the year (Monday as the first day of the week) | `52`  |\n",
    "| `%c`        | Locale’s appropriate date and time representation| `Sun Aug 19 14:30:45 2024` |\n",
    "| `%x`        | Locale’s appropriate date representation         | `08/19/24` |\n",
    "| `%X`        | Locale’s appropriate time representation         | `14:30:45` |\n",
    "| `%%`        | A literal `%` character                          | `%`      |\n",
    "\n",
    "These format codes can be used in the `strftime` and `strptime` functions to format and parse dates and times in a variety of ways."
   ]
  },
  {
   "cell_type": "code",
   "execution_count": 8,
   "metadata": {},
   "outputs": [
    {
     "name": "stdout",
     "output_type": "stream",
     "text": [
      "23\n",
      "Good Night\n"
     ]
    }
   ],
   "source": [
    "import time\n",
    "\n",
    "def greet_based_on_time():\n",
    "    # Get the current hour\n",
    "    current_hour = int(time.strftime('%H'))\n",
    "    print(current_hour)\n",
    "    # Determine the greeting based on the current hour\n",
    "    if 5 <= current_hour < 12:\n",
    "        greeting = \"Good Morning\"\n",
    "    elif 12 <= current_hour < 17:\n",
    "        greeting = \"Good Afternoon\"\n",
    "    elif 17 <= current_hour < 21:\n",
    "        greeting = \"Good Evening\"\n",
    "    else:\n",
    "        greeting = \"Good Night\"  # Optional for late night hours\n",
    "\n",
    "    # Print the greeting\n",
    "    print(greeting)\n",
    "\n",
    "# Call the function\n",
    "greet_based_on_time()\n",
    "\n"
   ]
  },
  {
   "cell_type": "code",
   "execution_count": 3,
   "metadata": {},
   "outputs": [
    {
     "name": "stdout",
     "output_type": "stream",
     "text": [
      "00:45:16\n",
      "00\n",
      "45\n",
      "16\n",
      "Good Evening Sir\n"
     ]
    }
   ],
   "source": [
    "import time\n",
    "from datetime import datetime\n",
    "\n",
    "# Print current time in different formats\n",
    "timestamp = time.strftime('%H:%M:%S')\n",
    "print(timestamp)\n",
    "timestamp = time.strftime('%H')\n",
    "print(timestamp)\n",
    "timestamp = time.strftime('%M')\n",
    "print(timestamp)\n",
    "timestamp = time.strftime('%S')\n",
    "print(timestamp)\n",
    "\n",
    "# Get user input and convert it to a datetime object\n",
    "user_input = input(\"Enter the time in 24 hrs format HH:MM:SS: \")\n",
    "try:\n",
    "    user_time = datetime.strptime(user_input, '%H:%M:%S').time()\n",
    "except ValueError:\n",
    "    print(\"Invalid time format. Please enter time in HH:MM:SS format.\")\n",
    "    exit()\n",
    "\n",
    "# Define time ranges\n",
    "morning_start = datetime.strptime('00:00:00', '%H:%M:%S').time()\n",
    "morning_end = datetime.strptime('12:00:00', '%H:%M:%S').time()\n",
    "afternoon_end = datetime.strptime('16:30:00', '%H:%M:%S').time()\n",
    "evening_end = datetime.strptime('21:00:00', '%H:%M:%S').time()\n",
    "\n",
    "# Determine the greeting based on the time\n",
    "if morning_start <= user_time < morning_end:\n",
    "    print(\"Good Morning Sir\")\n",
    "elif morning_end <= user_time < afternoon_end:\n",
    "    print(\"Good Afternoon Sir\")\n",
    "elif afternoon_end <= user_time < evening_end:\n",
    "    print(\"Good Evening Sir\")\n",
    "else:\n",
    "    print(\"Good Night Sir\")\n"
   ]
  }
 ],
 "metadata": {
  "kernelspec": {
   "display_name": "base",
   "language": "python",
   "name": "python3"
  },
  "language_info": {
   "codemirror_mode": {
    "name": "ipython",
    "version": 3
   },
   "file_extension": ".py",
   "mimetype": "text/x-python",
   "name": "python",
   "nbconvert_exporter": "python",
   "pygments_lexer": "ipython3",
   "version": "3.11.4"
  }
 },
 "nbformat": 4,
 "nbformat_minor": 2
}
