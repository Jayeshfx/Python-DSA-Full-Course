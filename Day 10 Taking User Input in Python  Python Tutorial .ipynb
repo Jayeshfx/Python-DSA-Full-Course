{
 "cells": [
  {
   "cell_type": "markdown",
   "metadata": {},
   "source": [
    "# Taking User Input in Python | Python Tutorial - Day #10\n",
    "- Repel : https://replit.com/@codewithharry/10-Day10-Taking-User-Input#main.py\n"
   ]
  },
  {
   "cell_type": "code",
   "execution_count": 1,
   "metadata": {},
   "outputs": [
    {
     "name": "stdout",
     "output_type": "stream",
     "text": [
      "My name is 8\n",
      "55\n",
      "10\n"
     ]
    }
   ],
   "source": [
    "a = input(\"Enter your name: \")\n",
    "print(\"My name is\", a)\n",
    "\n",
    "x = input(\"Enter first number: \")\n",
    "y = input(\"Enter second number: \")\n",
    "print(x  + y)\n",
    "\n",
    "print(int(x) + int(y))"
   ]
  }
 ],
 "metadata": {
  "kernelspec": {
   "display_name": "base",
   "language": "python",
   "name": "python3"
  },
  "language_info": {
   "codemirror_mode": {
    "name": "ipython",
    "version": 3
   },
   "file_extension": ".py",
   "mimetype": "text/x-python",
   "name": "python",
   "nbconvert_exporter": "python",
   "pygments_lexer": "ipython3",
   "version": "3.11.4"
  }
 },
 "nbformat": 4,
 "nbformat_minor": 2
}
