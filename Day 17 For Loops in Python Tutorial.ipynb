{
 "cells": [
  {
   "cell_type": "markdown",
   "metadata": {},
   "source": [
    "# For Loops in Python | Python Tutorial - Day #17\n",
    "- Repel : https://replit.com/@codewithharry/17-Day17-For-Loops#main.pyhttps://replit.com/@codewithharry/17-Day17-For-Loops#main.py"
   ]
  },
  {
   "cell_type": "markdown",
   "metadata": {},
   "source": [
    "Introduction to Loops:\n",
    "\n",
    "Sometimes a programmer wants to execute a group of statements a certain number of times. This can be done using loops. Based on this loops are further classified into following main types;\n",
    "\n",
    "- for loop\n",
    "- while loop\n",
    "\n",
    "The for Loop:\n",
    "\n",
    "for loops can iterate over a sequence of iterable objects in python. Iterating over a sequence is nothing but iterating over strings, lists, tuples, sets and dictionaries.\n",
    "- Example: iterating over a string:"
   ]
  },
  {
   "cell_type": "markdown",
   "metadata": {},
   "source": [
    "- ###  For Loop Iteration for Strings & Characters "
   ]
  },
  {
   "cell_type": "code",
   "execution_count": 8,
   "metadata": {},
   "outputs": [
    {
     "name": "stdout",
     "output_type": "stream",
     "text": [
      "J,a,y,e,s,h,"
     ]
    }
   ],
   "source": [
    "# Iterating the String\n",
    "\n",
    "Name = \"Jayesh\"\n",
    "\n",
    "for i in Name:\n",
    "    print(i,end=\",\")  "
   ]
  },
  {
   "cell_type": "code",
   "execution_count": 10,
   "metadata": {},
   "outputs": [
    {
     "name": "stdout",
     "output_type": "stream",
     "text": [
      "J\n",
      "a\n",
      "y\n",
      "This is special letter Y\n",
      "e\n",
      "s\n",
      "h\n"
     ]
    }
   ],
   "source": [
    "for i in Name:\n",
    "    print(i)\n",
    "    if (i == \"y\"):\n",
    "        print(\"This is special letter Y\")"
   ]
  },
  {
   "cell_type": "code",
   "execution_count": 19,
   "metadata": {},
   "outputs": [
    {
     "name": "stdout",
     "output_type": "stream",
     "text": [
      "Jayesh\n",
      "J\n",
      "a\n",
      "y\n",
      "e\n",
      "s\n",
      "h\n",
      "Mango\n",
      "M\n",
      "a\n",
      "n\n",
      "g\n",
      "o\n",
      "877\n",
      "8\n",
      "7\n",
      "7\n"
     ]
    }
   ],
   "source": [
    "# Iterarting the list[]\n",
    "\n",
    "# # Iterarting the list with characters only.\n",
    "\n",
    "\n",
    "lst = [\"Jayesh\",\"Mango\",\"877\"]\n",
    "\n",
    "for i in lst:\n",
    "    print(i)\n",
    "    for j in i:\n",
    "        print(j)"
   ]
  },
  {
   "cell_type": "code",
   "execution_count": 27,
   "metadata": {},
   "outputs": [
    {
     "name": "stdout",
     "output_type": "stream",
     "text": [
      "J\n",
      "a\n",
      "y\n",
      "e\n",
      "s\n",
      "h\n"
     ]
    }
   ],
   "source": [
    "# Iterarting the Jayesh only.\n",
    "\n",
    "lst = [\"Jayesh\", \"Mango\", \"877\"]\n",
    "\n",
    "for i in lst:\n",
    "    if i == \"Jayesh\":  # Check if the item is \"Jayesh\"\n",
    "        for j in i:  # Iterate over each character in \"Jayesh\"\n",
    "            print(j)"
   ]
  },
  {
   "cell_type": "code",
   "execution_count": 20,
   "metadata": {},
   "outputs": [
    {
     "name": "stdout",
     "output_type": "stream",
     "text": [
      "Jayesh\n",
      "J\n",
      "a\n",
      "y\n",
      "e\n",
      "s\n",
      "h\n",
      "Mango\n",
      "M\n",
      "a\n",
      "n\n",
      "g\n",
      "o\n",
      "Don\n",
      "D\n",
      "o\n",
      "n\n",
      "877\n"
     ]
    }
   ],
   "source": [
    "# Iterarting the list with numericals and characters.\n",
    "\n",
    "lst = [\"Jayesh\", \"Mango\", \"Don\", 877]\n",
    "\n",
    "for i in lst:\n",
    "    print(i)\n",
    "    if isinstance(i, str):  # Check if the element is a string\n",
    "        for j in i:\n",
    "            print(j)\n"
   ]
  },
  {
   "cell_type": "markdown",
   "metadata": {},
   "source": [
    "- ### range():\n",
    "     - What if we do not want to iterate over a sequence? What if we want to use for loop for a specific number of times?\n",
    "     - Here, we can use the range() function.\n",
    "     - Value in () is always less than 1 in range()."
   ]
  },
  {
   "cell_type": "code",
   "execution_count": 39,
   "metadata": {},
   "outputs": [
    {
     "name": "stdout",
     "output_type": "stream",
     "text": [
      "Loop 1\n",
      "0\n",
      "1\n",
      "2\n",
      "3\n",
      "4\n",
      "Loop 2\n",
      "1\n",
      "2\n",
      "3\n",
      "4\n",
      "5\n",
      "OR ALTERNATIVE \n",
      "1\n",
      "2\n",
      "3\n",
      "4\n",
      "5\n"
     ]
    }
   ],
   "source": [
    "# Printing till 5 using different combinations of for loop.\n",
    "\n",
    "print(\"Loop 1\")\n",
    "for i in range(5):\n",
    "    print(i)\n",
    "    \n",
    "print(\"Loop 2\")\n",
    "for i in range(5):\n",
    "    print(i+1)  # This will print numbers from 1 to 5\n",
    "\n",
    "print(\"OR ALTERNATIVE \")   # OR ALTERNATIVE \n",
    "for i in range(1,6):\n",
    "    print(i)"
   ]
  },
  {
   "cell_type": "code",
   "execution_count": 1,
   "metadata": {},
   "outputs": [
    {
     "name": "stdout",
     "output_type": "stream",
     "text": [
      "20\n",
      "22\n",
      "24\n",
      "26\n",
      "28\n",
      "30\n",
      "32\n",
      "34\n",
      "36\n",
      "38\n",
      "40\n",
      "42\n",
      "44\n",
      "46\n",
      "48\n",
      "50\n",
      "52\n",
      "54\n",
      "56\n",
      "58\n",
      "60\n",
      "62\n",
      "64\n",
      "66\n",
      "68\n",
      "70\n",
      "72\n",
      "74\n",
      "76\n",
      "78\n",
      "80\n",
      "82\n",
      "84\n",
      "86\n",
      "88\n",
      "90\n",
      "92\n",
      "94\n",
      "96\n",
      "98\n",
      "100\n"
     ]
    }
   ],
   "source": [
    "# Using step in range()\n",
    "\n",
    "# The step parameter in the range() function allows you to specify the increment between each number in the\n",
    "# sequence. By default, the step is 1, which means the sequence will increment by\n",
    "# 1. However, you can change this to any positive or negative integer.\n",
    "\n",
    "for i in range(20, 101,  2):  # Taking start = 20 , enf = 101-1 and step = 2\n",
    "    print(i)"
   ]
  }
 ],
 "metadata": {
  "kernelspec": {
   "display_name": "base",
   "language": "python",
   "name": "python3"
  },
  "language_info": {
   "codemirror_mode": {
    "name": "ipython",
    "version": 3
   },
   "file_extension": ".py",
   "mimetype": "text/x-python",
   "name": "python",
   "nbconvert_exporter": "python",
   "pygments_lexer": "ipython3",
   "version": "3.11.4"
  }
 },
 "nbformat": 4,
 "nbformat_minor": 2
}
