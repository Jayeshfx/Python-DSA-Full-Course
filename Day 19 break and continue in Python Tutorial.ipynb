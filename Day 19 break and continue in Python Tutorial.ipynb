{
 "cells": [
  {
   "cell_type": "markdown",
   "metadata": {},
   "source": [
    "# Break and continue in Python | Python Tutorial - Day #19\n",
    "- Repel : https://replit.com/@codewithharry/19-Day-19-break-and-continue\n"
   ]
  },
  {
   "cell_type": "markdown",
   "metadata": {},
   "source": [
    "### <u> Break statement :</u>\n",
    "The break statement enables a program to skip over a part of the code. A break statement terminates the very loop it lies within.<br>\n"
   ]
  },
  {
   "cell_type": "code",
   "execution_count": null,
   "metadata": {},
   "outputs": [],
   "source": [
    "# Question :  Write a Program to print table of given number from Input.\n",
    "\n",
    "Num = int(input(\"Enter the Number whose Table You Want :\"))\n",
    "\n",
    "for i in range(13):\n",
    "    i = i+1\n",
    "    if(i==11):\n",
    "        break\n",
    "    print(f\"{Num} * {i} = {Num*i}\")     # Alternative Code :    print(Num ,\"*\", i , \"=\",(Num*i)) \n",
    "    "
   ]
  },
  {
   "cell_type": "markdown",
   "metadata": {},
   "source": [
    "#### </u> Continue Statement :<u>\n",
    "The continue statement skips the rest of the loop statements and causes the next iteration to occur."
   ]
  },
  {
   "cell_type": "code",
   "execution_count": null,
   "metadata": {},
   "outputs": [],
   "source": [
    "# Question :  Write a Program to print table of given number from Input such that it should skip 5th & 6th Multiple.\n",
    "\n",
    "Int = int(input(\"Enter a Number : \"))\n",
    "for i in range(1,11):\n",
    "    if(i == 5 or i ==6):\n",
    "        print(f\"This is {i}th iteration is skipped! \")\n",
    "        continue\n",
    "    print(f\"{Int} * {i} = {Int * i}\")\n"
   ]
  },
  {
   "cell_type": "code",
   "execution_count": null,
   "metadata": {},
   "outputs": [],
   "source": [
    "# Question :  Write a Program to print table of given number from Input such that it should take only even mutiples.\n",
    "\n",
    "Int = int(input(\"Enter a Number: \"))\n",
    "\n",
    "for i in range(1,11):\n",
    "    if(i%2!=0):\n",
    "        print(\"This is ODD Multiple\")\n",
    "        continue\n",
    "    print(f\"{Int} * {i} = {Int * i}\")\n",
    "\n",
    "### ALTERNATIVE WITHOUT USING continue #####\n",
    "\n",
    "number = int(input(\"Enter a Number: \"))\n",
    "\n",
    "for i in range(2, 11, 2):\n",
    "    print(f\"{number} * {i} = {number * i}\")\n",
    "\n",
    "\n"
   ]
  },
  {
   "cell_type": "code",
   "execution_count": null,
   "metadata": {},
   "outputs": [],
   "source": [
    "\n"
   ]
  }
 ],
 "metadata": {
  "kernelspec": {
   "display_name": "base",
   "language": "python",
   "name": "python3"
  },
  "language_info": {
   "codemirror_mode": {
    "name": "ipython",
    "version": 3
   },
   "file_extension": ".py",
   "mimetype": "text/x-python",
   "name": "python",
   "nbconvert_exporter": "python",
   "pygments_lexer": "ipython3",
   "version": "3.11.4"
  }
 },
 "nbformat": 4,
 "nbformat_minor": 2
}
