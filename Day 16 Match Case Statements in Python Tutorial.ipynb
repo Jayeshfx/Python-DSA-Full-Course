{
 "cells": [
  {
   "cell_type": "markdown",
   "metadata": {},
   "source": [
    "# Match Case Statements in Python | Python Tutorial - Day #16\n",
    "- Repel : https://replit.com/@codewithharry/16-Day-16-Match-Case#main.py\n"
   ]
  },
  {
   "cell_type": "markdown",
   "metadata": {},
   "source": [
    " Match Case Statements:\n",
    "\n",
    "To implement switch-case like characteristics very similar to if-else functionality, we use a match case in python. If you are coming from a C, C++ or Java like language, you must have heard of switch-case statements. If this is your first language, dont worry as I will tell you everything you need to know about match case statements in this video!\n",
    "\n",
    "A match statement will compare a given variable’s value to different shapes, also referred to as the pattern. The main idea is to keep on comparing the variable with all the present patterns until it fits into one.\n",
    "\n",
    "The match case consists of three main entities :\n",
    "\n",
    "- The match keyword\n",
    "- One or more case clauses\n",
    "- Expression for each case\n",
    "\n",
    "The case clause consists of a pattern to be matched to the variable, a condition to be evaluated if the pattern matches, and a set of statements to be executed if the pattern matches."
   ]
  },
  {
   "cell_type": "code",
   "execution_count": 12,
   "metadata": {},
   "outputs": [
    {
     "name": "stdout",
     "output_type": "stream",
     "text": [
      "x % 2 == 0 and case is 4\n"
     ]
    }
   ],
   "source": [
    "x = 4\n",
    "# x is the variable to match\n",
    "match x:\n",
    "    # if x is 0\n",
    "    case 0:\n",
    "        print(\"x is zero\")\n",
    "    # case with if-condition\n",
    "    case 4 if x % 2 == 0:\n",
    "        print(\"x % 2 == 0 and case is 4\")\n",
    "    # Empty case with if-condition\n",
    "    case _ if x < 10:\n",
    "        print(\"x is < 10\")\n",
    "    # default case(will only be matched if the above cases were not matched)\n",
    "    # so it is basically just an else:\n",
    "    case _:\n",
    "        print(x)"
   ]
  },
  {
   "cell_type": "markdown",
   "metadata": {},
   "source": [
    "\n",
    "Question:\n",
    "\n",
    "You are tasked with writing a Python script for a food ordering system. The script should present a menu to the user with the following options:\n",
    "\n",
    "1. Manchurian\n",
    "2. Pizza\n",
    "    - a. Veg Pizza\n",
    "    - b. Non Veg Pizza\n",
    "3. Momos"
   ]
  },
  {
   "cell_type": "code",
   "execution_count": 22,
   "metadata": {},
   "outputs": [
    {
     "name": "stdout",
     "output_type": "stream",
     "text": [
      "Please select your food item:\n",
      "1. Manchurian\n",
      "2. Pizza\n",
      "\ta. Veg Pizza\n",
      "\tb. Non Veg Pizza\n",
      "3. Momos\n",
      "\n",
      "Thank you for ordering. Your Pizza is on the way.\n",
      "Please select type of Pizza:\n",
      " \tA. Veg Pizza\n",
      "\tB. Non Veg Pizza\n",
      "\n",
      "Thank You! Your Veg Pizza is on the way.\n"
     ]
    }
   ],
   "source": [
    "print(\"Please select your food item:\\n1. Manchurian\\n2. Pizza\\n\\ta. Veg Pizza\\n\\tb. Non Veg Pizza\\n3. Momos\\n\")\n",
    "\n",
    "Choice = int(input(\"Please select a Food Item from above: \"))\n",
    "\n",
    "match Choice:\n",
    "    case 1:\n",
    "        print(\"Thank you for ordering. Your Manchurian is on the way.\")\n",
    "    case 2:\n",
    "        print(\"Thank you for ordering. Your Pizza is on the way.\\nPlease select type of Pizza:\\n \\tA. Veg Pizza\\n\\tB. Non Veg Pizza\\n\")\n",
    "        Piz = input(\"Please select type of Pizza:\\n \\tA. Veg Pizza\\n\\tB. Non Veg Pizza\\n\").lower()\n",
    "        match Piz:\n",
    "            case 'a':\n",
    "                print(\"Thank You! Your Veg Pizza is on the way.\")\n",
    "            case 'b':\n",
    "                print(\"Thank You! Your Non Veg Pizza is o1n the way.\")\n",
    "            case _:\n",
    "                print(\"Invalid selection for Pizza type.\")\n",
    "    case 3:\n",
    "        print(\"Thank you for ordering. Your Momos are on the way.\")\n",
    "    case _:\n",
    "        print(\"Invalid selection for Food Item.\")\n"
   ]
  }
 ],
 "metadata": {
  "kernelspec": {
   "display_name": "base",
   "language": "python",
   "name": "python3"
  },
  "language_info": {
   "codemirror_mode": {
    "name": "ipython",
    "version": 3
   },
   "file_extension": ".py",
   "mimetype": "text/x-python",
   "name": "python",
   "nbconvert_exporter": "python",
   "pygments_lexer": "ipython3",
   "version": "3.11.4"
  }
 },
 "nbformat": 4,
 "nbformat_minor": 2
}
