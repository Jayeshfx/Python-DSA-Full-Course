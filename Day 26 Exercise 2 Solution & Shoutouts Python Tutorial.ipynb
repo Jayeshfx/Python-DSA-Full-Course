{
 "cells": [
  {
   "cell_type": "markdown",
   "metadata": {},
   "source": [
    "# **Exercise 2: Solution & Shoutouts | Python Tutorial - Day #26**\n",
    "- Repel : https://replit.com/@codewithharry/26-Day-26-Exercise-2-Solution#main.py\n"
   ]
  },
  {
   "cell_type": "markdown",
   "metadata": {},
   "source": [
    "Here is a table of format codes used in Python's `time.strftime` method and what they represent:\n",
    "\n",
    "| Format Code | Description                                      | Example  |\n",
    "|-------------|--------------------------------------------------|----------|\n",
    "| `%a`        | Abbreviated weekday name                         | `Sun`    |\n",
    "| `%A`        | Full weekday name                                | `Sunday` |\n",
    "| `%w`        | Weekday as a decimal number (0 = Sunday)         | `0`      |\n",
    "| `%d`        | Day of the month as a zero-padded decimal        | `01`     |\n",
    "| `%b`        | Abbreviated month name                           | `Jan`    |\n",
    "| `%B`        | Full month name                                  | `January`|\n",
    "| `%m`        | Month as a zero-padded decimal number (01-12)    | `01`     |\n",
    "| `%y`        | Year without century as a zero-padded decimal    | `24`     |\n",
    "| `%Y`        | Year with century                                | `2024`   |\n",
    "| `%H`        | Hour (24-hour clock) as a zero-padded decimal    | `14`     |\n",
    "| `%I`        | Hour (12-hour clock) as a zero-padded decimal    | `02`     |\n",
    "| `%p`        | AM or PM                                         | `PM`     |\n",
    "| `%M`        | Minute as a zero-padded decimal                  | `30`     |\n",
    "| `%S`        | Second as a zero-padded decimal                  | `45`     |\n",
    "| `%f`        | Microsecond as a decimal number, zero-padded to 6 digits | `000000`|\n",
    "| `%z`        | UTC offset in the form ±HHMM                     | `+0000`  |\n",
    "| `%Z`        | Time zone name                                   | `UTC`    |\n",
    "| `%j`        | Day of the year as a zero-padded decimal (001-366)| `365`    |\n",
    "| `%U`        | Week number of the year (Sunday as the first day of the week) | `52`  |\n",
    "| `%W`        | Week number of the year (Monday as the first day of the week) | `52`  |\n",
    "| `%c`        | Locale’s appropriate date and time representation| `Sun Aug 19 14:30:45 2024` |\n",
    "| `%x`        | Locale’s appropriate date representation         | `08/19/24` |\n",
    "| `%X`        | Locale’s appropriate time representation         | `14:30:45` |\n",
    "| `%%`        | A literal `%` character                          | `%`      |\n",
    "\n",
    "These format codes can be used in the `strftime` and `strptime` functions to format and parse dates and times in a variety of ways."
   ]
  },
  {
   "cell_type": "code",
   "execution_count": 9,
   "metadata": {},
   "outputs": [
    {
     "name": "stdout",
     "output_type": "stream",
     "text": [
      "14 : 05 : 26\n",
      "14\n",
      "05\n",
      "26\n"
     ]
    }
   ],
   "source": [
    "import time \n",
    "\n",
    "timestamp = time.strftime('%H : %M : %S')\n",
    "print(timestamp)\n",
    "\n",
    "Hour  = time.strftime('%H')\n",
    "print(Hour)\n",
    "\n",
    "Minutes = time.strftime('%M')\n",
    "print(Minutes)\n",
    "\n",
    "Seconds = time.strftime(\"%S\")\n",
    "print(Seconds)"
   ]
  },
  {
   "cell_type": "code",
   "execution_count": 1,
   "metadata": {},
   "outputs": [
    {
     "name": "stdout",
     "output_type": "stream",
     "text": [
      "Good Afternoon Sir!\n"
     ]
    }
   ],
   "source": [
    "import time\n",
    "t = time.strftime('%H:%M:%S') \n",
    "hour = int(time.strftime('%H'))\n",
    "# hour = int(input(\"Enter hour: \"))\n",
    "# print(hour)\n",
    "\n",
    "if(hour>=0 and hour<12):\n",
    "  print(\"Good Morning Sir!\")\n",
    "elif(hour>=12 and hour<17):\n",
    "  print(\"Good Afternoon Sir!\")\n",
    "elif(hour>=17 and hour<0):\n",
    "  print(\"Good Night Sir!\")"
   ]
  }
 ],
 "metadata": {
  "kernelspec": {
   "display_name": "base",
   "language": "python",
   "name": "python3"
  },
  "language_info": {
   "codemirror_mode": {
    "name": "ipython",
    "version": 3
   },
   "file_extension": ".py",
   "mimetype": "text/x-python",
   "name": "python",
   "nbconvert_exporter": "python",
   "pygments_lexer": "ipython3",
   "version": "3.11.4"
  }
 },
 "nbformat": 4,
 "nbformat_minor": 2
}
