{
 "cells": [
  {
   "cell_type": "markdown",
   "metadata": {},
   "source": [
    "# Set Methods in Python | Python Tutorial - Day #32"
   ]
  },
  {
   "cell_type": "markdown",
   "metadata": {},
   "source": [
    "SET AND IT'S OPERATIONS"
   ]
  },
  {
   "cell_type": "markdown",
   "metadata": {},
   "source": [
    "Python Sets:\n",
    "- Sets are used to store multiple items in a single variable.\n",
    "- Set is one of built-in data types in Python used to store collections of data.\n",
    "- A set is a collection which is unordered, unchangeable, and unindexed.\n",
    "- Sets are written with curly brackets.\n",
    "Set items are unordered, unchangeable, and do not allow duplicate values.\n",
    "- Unordered means that the items in a set do not have a defined order.\n",
    "- Set items can appear in a different order every time you use them, and cannot be referred \n",
    "to by index or key.\n",
    "- Set items are unchangeable, meaning that we cannot change the items after the set has \n",
    "been created.\n",
    "- Sets cannot have two items with the same value.\n",
    "#\n",
    "Remark: Set items are unchangeable, but you can remove items and add new items."
   ]
  },
  {
   "cell_type": "code",
   "execution_count": 14,
   "metadata": {},
   "outputs": [
    {
     "name": "stdout",
     "output_type": "stream",
     "text": [
      "{877, 'Jayesh'}\n",
      "{777, 'Magnus'}\n"
     ]
    }
   ],
   "source": [
    "# Two forms of set construction\n",
    "\n",
    "# 1. Using {} Method\n",
    "\n",
    "set1 = {\"Jayesh\",877}\n",
    "print(set1)\n",
    "\n",
    "# 1. Using set() Method\n",
    "\n",
    "set2 = set((\"Magnus\",777))\n",
    "print(set2)"
   ]
  },
  {
   "cell_type": "code",
   "execution_count": 3,
   "metadata": {},
   "outputs": [
    {
     "data": {
      "text/plain": [
       "{877, 'Banana', False, 'Mango', True}"
      ]
     },
     "execution_count": 3,
     "metadata": {},
     "output_type": "execute_result"
    }
   ],
   "source": [
    "# True/ False are considered 1/0 repectively.\n",
    "\n",
    "set1 = {\"Mango\",\"Banana\",True,1,False,0,877}\n",
    "set1"
   ]
  },
  {
   "cell_type": "code",
   "execution_count": 8,
   "metadata": {},
   "outputs": [
    {
     "name": "stdout",
     "output_type": "stream",
     "text": [
      "{'cherry', 'banana', 'apple'}\n",
      "{1, 3, 5, 7, 9}\n",
      "{False, True}\n",
      "<class 'set'>\n",
      "<class 'set'>\n",
      "<class 'set'>\n"
     ]
    }
   ],
   "source": [
    "# Set itself is a Datatype so type() = set\n",
    "\n",
    "set1 = {\"apple\", \"banana\", \"cherry\"}\n",
    "set2 = {1, 5, 7, 9, 3}\n",
    "set3 = {True, False, False}\n",
    "\n",
    "print(set1)\n",
    "print(set2)\n",
    "print(set3)\n",
    "\n",
    "print(type(set1))\n",
    "print(type(set2))\n",
    "print(type(set3))"
   ]
  },
  {
   "cell_type": "markdown",
   "metadata": {},
   "source": [
    "SET OPERATION TABLE :\n",
    "#\n",
    "| **S. No.** | **Method**               | **Description**                                                                            |\n",
    "|------------|--------------------------|--------------------------------------------------------------------------------------------|\n",
    "| 1          | `add()`                  | Adds an element to the set                                                                  |\n",
    "| 2          | `clear()`                | Removes all the elements from the set                                                       |\n",
    "| 3          | `copy()`                 | Returns a copy of the set                                                                   |\n",
    "| 4          | `difference()`           | Returns a set containing the difference between two or more sets                            |\n",
    "| 5          | `difference_update()`    | Removes the items in this set that are also included in another, specified set              |\n",
    "| 6          | `discard()`              | Removes the specified item                                                                  |\n",
    "| 7          | `intersection()`         | Returns a set that is the intersection of two other sets                                    |\n",
    "| 8          | `intersection_update()`  | Removes the items in this set that are not present in other, specified set(s)               |\n",
    "| 9          | `pop()`                  | Removes an element from the set                                                             |\n",
    "| 10         | `remove()`               | Removes the specified element                                                               |\n",
    "| 11         | `union()`                | Returns a set containing the union of sets                                                  |\n",
    "| 12         | `update()`               | Updates the set with the union of this set and other                                        |"
   ]
  },
  {
   "cell_type": "code",
   "execution_count": 19,
   "metadata": {},
   "outputs": [
    {
     "name": "stdout",
     "output_type": "stream",
     "text": [
      "{'Ball', 'cat', 'Apple'}\n",
      "{'Doggy', 'Ball', 'cat', 'Apple'}\n"
     ]
    }
   ],
   "source": [
    "# add() Method\n",
    "\n",
    "set1 = {\"Apple\",\"Ball\",\"cat\"}\n",
    "print(set1)\n",
    "\n",
    "set1.add(\"Doggy\")\n",
    "print(set1)"
   ]
  },
  {
   "cell_type": "code",
   "execution_count": 31,
   "metadata": {},
   "outputs": [
    {
     "data": {
      "text/plain": [
       "{'Doremon', 'Iron man', 'Pokemon', 'Thor'}"
      ]
     },
     "execution_count": 31,
     "metadata": {},
     "output_type": "execute_result"
    }
   ],
   "source": [
    "# update() Method : It is used to update initial set with respect to another\n",
    "\n",
    "initial = {\"Pokemon\",\"Doremon\"}\n",
    "another = {\"Iron man\",\"Thor\"}\n",
    "initial.update(another)\n",
    "\n",
    "initial  # After Updation"
   ]
  },
  {
   "cell_type": "code",
   "execution_count": 42,
   "metadata": {},
   "outputs": [
    {
     "name": "stdout",
     "output_type": "stream",
     "text": [
      "{2, 3, 1, 'B', 'C'}\n",
      "{2, 3, 1, 'B', 'C'}\n"
     ]
    }
   ],
   "source": [
    "# remove() & discard() Method\n",
    "# It can remove only single element from set.\n",
    "\n",
    "s1 = {\"A\",\"B\",\"C\",1,2,3}\n",
    "s2 = {\"E\",\"F\",\"G\",4,5,6}\n",
    "\n",
    "s1.remove(\"A\")\n",
    "print(s1)\n",
    "\n",
    "s2.discard(\"E\")\n",
    "print(s1)"
   ]
  },
  {
   "cell_type": "code",
   "execution_count": 6,
   "metadata": {},
   "outputs": [
    {
     "name": "stdout",
     "output_type": "stream",
     "text": [
      "1\n",
      "F\n",
      "{2, 3, 'A', 'C', 'B'}\n",
      "{4, 'G', 5, 6, 'E'}\n"
     ]
    }
   ],
   "source": [
    "# pop() : \n",
    "# You can also use the pop() method to remove an item, but this method will remove a random \n",
    "# Item, so you cannot be sure what item that gets removed.\n",
    "# The return value of the pop() method is the removed item.\n",
    "\n",
    "s1 = {\"A\",\"B\",\"C\",1,2,3}\n",
    "print(s1.pop())             # For randomness Kerenel restart is required.\n",
    "\n",
    "s2 = {\"E\",\"F\",\"G\",4,5,6}\n",
    "print(s2.pop())             # For randomness Kerenel restart is required.\n",
    "\n",
    "print(s1)  # Poped items are removed form main s1\n",
    "print(s2)  # Poped items are removed form main s2"
   ]
  },
  {
   "cell_type": "code",
   "execution_count": 9,
   "metadata": {},
   "outputs": [
    {
     "name": "stdout",
     "output_type": "stream",
     "text": [
      "set()\n"
     ]
    }
   ],
   "source": [
    "# clear() : Permanantly deletes the all set elments\n",
    "\n",
    "s1 = {\"A\",\"B\",\"C\",1,2,3}\n",
    "s1.clear()\n",
    "print(s1)"
   ]
  },
  {
   "cell_type": "code",
   "execution_count": 18,
   "metadata": {},
   "outputs": [
    {
     "ename": "NameError",
     "evalue": "name 's2' is not defined",
     "output_type": "error",
     "traceback": [
      "\u001b[1;31m---------------------------------------------------------------------------\u001b[0m",
      "\u001b[1;31mNameError\u001b[0m                                 Traceback (most recent call last)",
      "Cell \u001b[1;32mIn[18], line 5\u001b[0m\n\u001b[0;32m      2\u001b[0m s2 \u001b[38;5;241m=\u001b[39m {\u001b[38;5;124m\"\u001b[39m\u001b[38;5;124mE\u001b[39m\u001b[38;5;124m\"\u001b[39m,\u001b[38;5;124m\"\u001b[39m\u001b[38;5;124mF\u001b[39m\u001b[38;5;124m\"\u001b[39m,\u001b[38;5;124m\"\u001b[39m\u001b[38;5;124mG\u001b[39m\u001b[38;5;124m\"\u001b[39m,\u001b[38;5;241m4\u001b[39m,\u001b[38;5;241m5\u001b[39m,\u001b[38;5;241m6\u001b[39m}\n\u001b[0;32m      3\u001b[0m \u001b[38;5;28;01mdel\u001b[39;00m(s2)\n\u001b[1;32m----> 5\u001b[0m \u001b[38;5;28mprint\u001b[39m(s2)\n",
      "\u001b[1;31mNameError\u001b[0m: name 's2' is not defined"
     ]
    }
   ],
   "source": [
    "# del() : Permanantly deletes the all set elments along with it's variable allcation name.\n",
    "s2 = {\"E\",\"F\",\"G\",4,5,6}\n",
    "del(s2)\n",
    "\n",
    "print(s2)  # Here s2 becomes undefined since s2 is deleted"
   ]
  },
  {
   "cell_type": "code",
   "execution_count": 28,
   "metadata": {},
   "outputs": [
    {
     "name": "stdout",
     "output_type": "stream",
     "text": [
      "{False, 1, 2, 3, 4, 'C', 'B', 'G', 5, 6, 'E', 'A', 'Ball', 'Bat', 'F'}\n",
      "{False, 1, 2, 3, 4, 'C', 'B', 'G', 5, 6, 'E', 'A', 'F'}\n"
     ]
    }
   ],
   "source": [
    "# Joining or combinig of two sets.\n",
    "\n",
    "# union()\n",
    "s1 = {\"A\",\"B\",\"C\",1,2,3}\n",
    "s2 = {\"E\",\"F\",\"G\",4,5,6}\n",
    "s3 = {True,False}\n",
    "s4 = {\"Bat\",\"Ball\"}\n",
    "\n",
    "print(s1.union(s2,s3,s4))  # We can union multiple set at a time.\n",
    "\n",
    "# Alternative Method.\n",
    "\n",
    "# The | operator only allows you to join sets with sets, and not with other data types like you can with the union() method.\n",
    "print(s1|s2|s3)  \n"
   ]
  },
  {
   "cell_type": "code",
   "execution_count": 43,
   "metadata": {},
   "outputs": [
    {
     "name": "stdout",
     "output_type": "stream",
     "text": [
      "{'cat', 2}\n",
      "{'cat', 'Aura', 2}\n"
     ]
    }
   ],
   "source": [
    "# intersection() : Extracts the common elements\n",
    "\n",
    "s1 = {\"Aura\", \"B\", \"cat\", 1, 2, 3}\n",
    "s2 = {\"E\", \"cat\", \"Aura\", 4, 2, 6}\n",
    "s3 = {True,False}\n",
    "s4 = {\"cat\", \"Ball\", 2}\n",
    "\n",
    "# Using intersection() method\n",
    "print(s1.intersection(s2, s4))\n",
    "\n",
    "# Alternative Method using the & operator\n",
    "print(s1 & s2)\n"
   ]
  },
  {
   "cell_type": "code",
   "execution_count": 48,
   "metadata": {},
   "outputs": [
    {
     "name": "stdout",
     "output_type": "stream",
     "text": [
      "{'apple'}\n"
     ]
    },
    {
     "data": {
      "text/plain": [
       "{'apple'}"
      ]
     },
     "execution_count": 48,
     "metadata": {},
     "output_type": "execute_result"
    }
   ],
   "source": [
    "# intersection_update()\n",
    "\n",
    "# The intersection_update() method will also keep ONLY the duplicates, but it will change the \n",
    "# original set instead of returning a new set.\n",
    "# Keep the items that exist in both set1, and set2:\n",
    "\n",
    "set1 = {\"apple\", \"banana\", \"cherry\"}\n",
    "set2 = {\"google\", \"microsoft\", \"apple\"}\n",
    "set1.intersection_update(set2)\n",
    "print(set1)\n",
    "\n",
    "set1 # It will update the initial set1 with intersected elements."
   ]
  },
  {
   "cell_type": "code",
   "execution_count": 12,
   "metadata": {},
   "outputs": [
    {
     "name": "stdout",
     "output_type": "stream",
     "text": [
      "{'facebook', 'banana'}\n",
      "{'facebook', 'banana'}\n"
     ]
    }
   ],
   "source": [
    "# difference() : \n",
    "# The difference() method will return a new set that will contain only the items from the first set that are not present in the other set.\n",
    "\n",
    "set1 = {\"apple\", \"banana\", \"cherry\",\"facebook\"}\n",
    "set2 = {\"google\", \"microsoft\", \"apple\"}\n",
    "set3 = {\"Jayesh\",\"cherry\"}\n",
    "\n",
    "print(set1.difference(set2,set3)) # can perform on multiple sets.\n",
    "\n",
    "# ALTERNATIVE METHOD\n",
    "# We can use the - operator instead of the difference() method, and you will get the same result.\n",
    "\n",
    "set3 = set1 - set2 - set3\n",
    "print(set3)"
   ]
  },
  {
   "cell_type": "code",
   "execution_count": 13,
   "metadata": {},
   "outputs": [
    {
     "name": "stdout",
     "output_type": "stream",
     "text": [
      "{'banana', 'cherry'}\n"
     ]
    }
   ],
   "source": [
    "set1 = {\"apple\", \"banana\", \"cherry\"}\n",
    "set2 = {\"google\", \"microsoft\", \"apple\"}\n",
    "set3 = set1 - set2\n",
    "print(set3)"
   ]
  },
  {
   "cell_type": "code",
   "execution_count": 18,
   "metadata": {},
   "outputs": [
    {
     "name": "stdout",
     "output_type": "stream",
     "text": [
      "{'apple', 'banana', 'cherry'}\n",
      "{'banana', 'cherry'}\n"
     ]
    }
   ],
   "source": [
    "# difference_update() Method :\n",
    "''' The difference_update() method will also keep the items from the first set that are not in the \n",
    " other set, but it will change the original set instead of returning a new set.'''\n",
    "\n",
    "set1 = {\"apple\", \"banana\", \"cherry\"}\n",
    "set2 = {\"google\", \"microsoft\", \"apple\"}\n",
    "\n",
    "print(set1)               # Before updation\n",
    "set1.difference_update(set2)\n",
    "print(set1)               # After updation"
   ]
  }
 ],
 "metadata": {
  "kernelspec": {
   "display_name": "base",
   "language": "python",
   "name": "python3"
  },
  "language_info": {
   "codemirror_mode": {
    "name": "ipython",
    "version": 3
   },
   "file_extension": ".py",
   "mimetype": "text/x-python",
   "name": "python",
   "nbconvert_exporter": "python",
   "pygments_lexer": "ipython3",
   "version": "3.11.4"
  }
 },
 "nbformat": 4,
 "nbformat_minor": 2
}
