{
 "cells": [
  {
   "cell_type": "markdown",
   "metadata": {},
   "source": [
    "# Introduction to Lists in Python | Python Tutorial - Day #22\n",
    "- Repel : https://replit.com/@codewithharry/22-Day-22-Introduction-to-Lists"
   ]
  },
  {
   "cell_type": "markdown",
   "metadata": {},
   "source": [
    "#### <u>` Python Lists:` </u>\n",
    "- Lists are ordered collection of data items.\n",
    "- They store multiple items of different data types in a single variable.\n",
    "- List items are separated by commas and enclosed within square brackets `[]`.\n",
    "- `Mutability` : Lists are changeable meaning we can alter them after creation."
   ]
  },
  {
   "cell_type": "code",
   "execution_count": 17,
   "metadata": {},
   "outputs": [
    {
     "name": "stdout",
     "output_type": "stream",
     "text": [
      "[True, 5, 10, 'Jayesh']\n",
      "<class 'list'>\n",
      "The length of the list is : 4 \n",
      "<class 'bool'>\n",
      "<class 'str'>\n"
     ]
    }
   ],
   "source": [
    "# List example:\n",
    "\n",
    "list = [True, 5 ,10 , 'Jayesh']\n",
    "print(list)\n",
    "print(type(list))        # Type of variable\n",
    "\n",
    "print(f\"The length of the list is : {len(list)} \")          # Length of list\n",
    "print(type(list[0]))                                        # Type of first element present in variable\n",
    "print(type(list[-1]))                                       # Type of last element present in variable\n"
   ]
  },
  {
   "cell_type": "markdown",
   "metadata": {},
   "source": [
    "#### `Accessing list items`\n",
    "We can access list items by using its index with the square bracket syntax []. For example colors[0] will give \"Red\", colors[1] will give \"Green\" and so on..."
   ]
  },
  {
   "cell_type": "markdown",
   "metadata": {},
   "source": [
    "#### <u> List Index: </u>\n",
    "- Each item/element in a list has its own unique index. This index can be used to access any particular item from the list. \n",
    "- The first item has index [0], second item has index [1], third item has index [2] and so on.\n",
    "\n"
   ]
  },
  {
   "cell_type": "code",
   "execution_count": 19,
   "metadata": {},
   "outputs": [
    {
     "name": "stdout",
     "output_type": "stream",
     "text": [
      "['Red', 'Green', 'Blue', 'Yellow', 'Green']\n",
      "Red\n",
      "<class 'str'>\n",
      "['Green', 'Blue', 'Yellow']\n"
     ]
    }
   ],
   "source": [
    "# Positive Indexing in List:\n",
    "# As we have seen that list items have index, as such we can access items using these indexes.\n",
    "\n",
    "#          [0]      [1]     [2]      [3]      [4]\n",
    "list = [\"Red\", \"Green\", \"Blue\", \"Yellow\", \"Green\"]\n",
    "print(list)\n",
    "\n",
    "print(list[0])           # Extract first element\n",
    "print(type(list[0]))     # Type of first element present in variable\n",
    "\n",
    "# Question Extract \"Green\", \"Blue\", \"Yellow\" using +ve indexing\n",
    "\n",
    "print(list[1:4])  # Syntax : list[start , end+1]\n"
   ]
  },
  {
   "cell_type": "code",
   "execution_count": 22,
   "metadata": {},
   "outputs": [
    {
     "name": "stdout",
     "output_type": "stream",
     "text": [
      "Blue\n",
      "Red\n",
      "['Green', 'Blue', 'Yellow']\n"
     ]
    }
   ],
   "source": [
    "# Negative Indexing:\n",
    "# Similar to positive indexing, negative indexing is also used to access items, but from the end of the list. \n",
    "# The last item has index [-1], second last item has index [-2], third last item has index [-3] and so on.\n",
    "\n",
    "colors = [\"Red\", \"Green\", \"Blue\", \"Yellow\", \"Green\"]\n",
    "#          [-5]    [-4]    [-3]     [-2]      [-1]\n",
    "\n",
    "print(colors[-3])\n",
    "print(colors[-5])\n",
    "\n",
    "# Question Extract \"Green\", \"Blue\", \"Yellow\" using -ve indexing\n",
    "\n",
    "print(list[-4:-1])  # Syntax : list[- start , - (end-1)]"
   ]
  },
  {
   "cell_type": "code",
   "execution_count": 26,
   "metadata": {},
   "outputs": [
    {
     "name": "stdout",
     "output_type": "stream",
     "text": [
      "No, jayesh is not present in the list.\n"
     ]
    }
   ],
   "source": [
    "L1 = [\"Jayesh\", 877, \"Piyush\", 564, True]\n",
    "\n",
    "# Get user input\n",
    "user_input = input(\"Enter what you want to check: \")\n",
    "\n",
    "# Convert the user input to the appropriate type based on its content\n",
    "if user_input.isdigit():\n",
    "    user_input = int(user_input)\n",
    "elif user_input.lower() == \"true\":\n",
    "    user_input = True\n",
    "elif user_input.lower() == \"false\":\n",
    "    user_input = False\n",
    "\n",
    "# Check if the user input is present in the list\n",
    "if user_input in L1:\n",
    "    print(f\"Yes, {user_input} is present in the list.\")\n",
    "else:\n",
    "    print(f\"No, {user_input} is not present in the list.\")\n"
   ]
  },
  {
   "cell_type": "markdown",
   "metadata": {},
   "source": [
    "| Feature          | Indexing                                   | Slicing                                  |\n",
    "|------------------|--------------------------------------------|------------------------------------------|\n",
    "| **Definition**   | Accesses a single element of a sequence.   | Extracts a sub-sequence from a sequence. |\n",
    "| **Syntax**       | `sequence[index]`                         | `sequence[start:stop:step]`              |\n",
    "| **Example**      | `list[3]` -> Accesses the 4th element.     | `list[1:5]` -> Extracts elements from index 1 to 4. |\n",
    "| **Result Type**  | Returns a single value.                    | Returns a list or sub-sequence.          |\n",
    "| **Index Type**   | Uses a single integer index.               | Uses start, stop, and step indices.      |\n",
    "| **Negative Index** | Supports negative indices (e.g., `list[-1]`). | Supports negative indices (e.g., `list[-5:-1]`). |\n",
    "| **Out of Bounds** | Raises an `IndexError` if out of bounds.   | Does not raise an error; returns an empty sequence if out of bounds. |\n",
    "| **Step Value**   | Not applicable.                            | Allows stepping through elements (e.g., `list[::2]` for every other element). |\n",
    "\n"
   ]
  },
  {
   "cell_type": "markdown",
   "metadata": {},
   "source": [
    "#### `Range of Index:`\n",
    "- You can print a range of list items by specifying where you want to start, where do you want to end and if you want to skip elements in between the range.\n",
    "- Synatx : ` listName[start : end : jumpIndex]`"
   ]
  },
  {
   "cell_type": "code",
   "execution_count": 31,
   "metadata": {},
   "outputs": [
    {
     "name": "stdout",
     "output_type": "stream",
     "text": [
      "D\n",
      "[3, 4, 5, 'A', 'B', 'C', 'D', 'E']\n",
      "[2, 4, 'A', 'C', 'E']\n"
     ]
    }
   ],
   "source": [
    "L2 = [1,2,3,4,5,\"A\",\"B\",\"C\",\"D\",\"E\"]\n",
    "\n",
    "print(L2[8])  # Extract D only \n",
    "\n",
    "print(L2[2:10])  # Extract 3  to  E. \n",
    "\n",
    "# Jumping Index :\n",
    "print(L2[1:11:2])  # Extract even indexes only i.e [2, 4, 'A', 'C', 'E']"
   ]
  },
  {
   "cell_type": "markdown",
   "metadata": {},
   "source": [
    "- **`del`**: This keyword is used to delete variables, objects, or items from a list. \n",
    "- For example, `del variable_name` removes the variable from the namespace, freeing up memory.\n",
    "\n",
    "- **`del list`**: When used to delete a list, `del list_name` removes the list object from memory. \n",
    "- This is useful when you want to clear the list and free up resources.\n",
    "\n"
   ]
  },
  {
   "cell_type": "markdown",
   "metadata": {},
   "source": [
    "#### <u> List Comprehension </u>\n",
    "List comprehensions are used for creating new lists from other iterables like lists, tuples, dictionaries, sets, and even in arrays and strings.\n",
    "\n",
    "`Syntax:` List = `[Expression(item) for item in iterable if Condition]`\n",
    "\n",
    "`Expression:` It is the item which is being iterated.\n",
    "\n",
    "`Iterable:` It can be list, tuples, dictionaries, sets, and even in arrays and strings.\n",
    "\n",
    "`Condition:` Condition checks if the item should be added to the new list or not."
   ]
  },
  {
   "cell_type": "code",
   "execution_count": 62,
   "metadata": {},
   "outputs": [
    {
     "name": "stdout",
     "output_type": "stream",
     "text": [
      "[1, 2, 3, 4, 5, 6, 7, 8, 9, 10, 11, 12, 13, 14, 15, 16, 17, 18, 19, 20]\n",
      "[1, 4, 9, 16, 25, 36, 49, 64, 81, 100, 121, 144, 169, 196, 225, 256, 289, 324, 361, 400]\n",
      "[2, 4, 6, 8, 10, 12, 14, 16, 18, 20]\n"
     ]
    }
   ],
   "source": [
    "lst = [i  for i in range(1,21)]\n",
    "print(lst)\n",
    "\n",
    "lst2 = [i*i  for i in range(1,21)]\n",
    "print(lst2)\n",
    "\n",
    "# Applying condition for even numbers\n",
    "lst3 = [i  for i in range(1,21) if(i%2 == 0)]   \n",
    "print(lst3)\n",
    "\n"
   ]
  },
  {
   "cell_type": "code",
   "execution_count": 57,
   "metadata": {},
   "outputs": [
    {
     "name": "stdout",
     "output_type": "stream",
     "text": [
      "[1, 2, 3, 4, 5, 6, 7, 8, 9, 10, 11, 12, 13, 14, 15, 16, 17, 18, 19, 20, 21, 22, 23, 24, 25, 26, 27, 28, 29, 30] \n",
      "\n",
      "The Multiple of 3 are as follows: \n",
      "[3, 6, 9, 12, 15, 18, 21, 24, 27, 30]\n"
     ]
    }
   ],
   "source": [
    "# Question Jumping Index : \n",
    "'''You need to work with a list of integers from 1 to 30. Your task is to create this list, and then print only those numbers that are multiples of 3, starting from the third element of the list and continuing up to the end of the list, using a slicing technique.'''\n",
    "\n",
    "# del list    ==> Clearing previous varible effects.\n",
    "\n",
    "numbers = list(range(1, 31))  # Creating a list of number from 1 to 30\n",
    "print(numbers,\"\\n\")\n",
    "\n",
    "print(\"The Multiple of 3 are as follows: \")\n",
    "# Applying jumping Index:\n",
    "print(numbers[2:31:3])  # Print only multiples of 3 i.e 3,6,9,...,30\n"
   ]
  }
 ],
 "metadata": {
  "kernelspec": {
   "display_name": "base",
   "language": "python",
   "name": "python3"
  },
  "language_info": {
   "codemirror_mode": {
    "name": "ipython",
    "version": 3
   },
   "file_extension": ".py",
   "mimetype": "text/x-python",
   "name": "python",
   "nbconvert_exporter": "python",
   "pygments_lexer": "ipython3",
   "version": "3.11.4"
  }
 },
 "nbformat": 4,
 "nbformat_minor": 2
}
