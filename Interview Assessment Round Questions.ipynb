{
 "cells": [
  {
   "cell_type": "markdown",
   "metadata": {},
   "source": [
    "### **GPT PROMPT :** <br>\n",
    "\n",
    "\n",
    "Read the code and write a question such that the answer  of the question is the below given code"
   ]
  },
  {
   "cell_type": "markdown",
   "metadata": {},
   "source": [
    "**Question 01:** <br>\n",
    "\n",
    "How can you write a Python program that takes the string `\"string\"`, randomly shuffles the remaining unique characters, and then prints both the list of unique characters and the resulting shuffled string?"
   ]
  },
  {
   "cell_type": "code",
   "execution_count": 1,
   "metadata": {},
   "outputs": [
    {
     "name": "stdout",
     "output_type": "stream",
     "text": [
      "gtrsin\n"
     ]
    }
   ],
   "source": [
    "import random\n",
    "\n",
    "strr = \"string\"\n",
    "\n",
    "# Convert the string to a set to get unique characters\n",
    "unique_chars = list(set(strr))\n",
    "\n",
    "# Shuffle the list of unique characters\n",
    "random.shuffle(unique_chars)\n",
    "\n",
    "# Join the shuffled characters back into a string\n",
    "random_sequence = ''.join(unique_chars)\n",
    "\n",
    "print(random_sequence)\n"
   ]
  },
  {
   "cell_type": "markdown",
   "metadata": {},
   "source": [
    "**Question 02:** <br>\n",
    "\n",
    "How can you write a Python program that takes a list with duplicate elements, removes the duplicates by converting it to a set, and then converts it back to a list to display both the original list and the list without duplicates?"
   ]
  },
  {
   "cell_type": "markdown",
   "metadata": {},
   "source": []
  },
  {
   "cell_type": "code",
   "execution_count": 2,
   "metadata": {},
   "outputs": [
    {
     "name": "stdout",
     "output_type": "stream",
     "text": [
      "Original List: [1, 2, 2, 3, 4, 4, 5]\n",
      "List without Duplicates: [1, 2, 3, 4, 5]\n"
     ]
    }
   ],
   "source": [
    "# Original list with duplicates\n",
    "original_list = [1, 2, 2, 3, 4, 4, 5]\n",
    "\n",
    "# Convert the list to a set to remove duplicates, then back to a list\n",
    "unique_list = list(set(original_list))\n",
    "\n",
    "print(\"Original List:\", original_list)\n",
    "print(\"List without Duplicates:\", unique_list)\n"
   ]
  }
 ],
 "metadata": {
  "kernelspec": {
   "display_name": "base",
   "language": "python",
   "name": "python3"
  },
  "language_info": {
   "codemirror_mode": {
    "name": "ipython",
    "version": 3
   },
   "file_extension": ".py",
   "mimetype": "text/x-python",
   "name": "python",
   "nbconvert_exporter": "python",
   "pygments_lexer": "ipython3",
   "version": "3.11.4"
  }
 },
 "nbformat": 4,
 "nbformat_minor": 2
}
