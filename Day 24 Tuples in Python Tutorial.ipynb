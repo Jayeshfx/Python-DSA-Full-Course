{
 "cells": [
  {
   "cell_type": "markdown",
   "metadata": {},
   "source": [
    "# Tuples in Python | Python Tutorial - Day #24\n",
    "- Repel : https://replit.com/@codewithharry/24-Day24-Introduction-to-Tuples#main.py "
   ]
  },
  {
   "cell_type": "markdown",
   "metadata": {},
   "source": [
    "#### <u> Python Tuples : </u>\n",
    "- Tuples are ordered collection of data items. \n",
    "- They store multiple items of different data types in a single variable. \n",
    "- Tuple items are separated by commas and enclosed within round brackets (). \n",
    "- Tuples are <u> Unchangeable / Immutable </u> meaning we can not alter them after creation."
   ]
  },
  {
   "cell_type": "code",
   "execution_count": 7,
   "metadata": {},
   "outputs": [
    {
     "name": "stdout",
     "output_type": "stream",
     "text": [
      "<class 'tuple'> (1, 2, 3, 4, 5, 'Jayesh', True)\n",
      "The length of tuple is :    7\n"
     ]
    }
   ],
   "source": [
    "tup = (1,2,3,4,5,\"Jayesh\",True)\n",
    "\n",
    "print(type(tup),tup)\n",
    "print(\"The length of tuple is :   \",len(tup))"
   ]
  },
  {
   "cell_type": "code",
   "execution_count": 8,
   "metadata": {},
   "outputs": [
    {
     "ename": "TypeError",
     "evalue": "'tuple' object does not support item assignment",
     "output_type": "error",
     "traceback": [
      "\u001b[1;31m---------------------------------------------------------------------------\u001b[0m",
      "\u001b[1;31mTypeError\u001b[0m                                 Traceback (most recent call last)",
      "Cell \u001b[1;32mIn[8], line 4\u001b[0m\n\u001b[0;32m      1\u001b[0m \u001b[38;5;66;03m# Checking the Tuples Mutablility.\u001b[39;00m\n\u001b[0;32m      3\u001b[0m tup1 \u001b[38;5;241m=\u001b[39m (\u001b[38;5;241m1\u001b[39m,\u001b[38;5;241m2\u001b[39m,\u001b[38;5;241m3\u001b[39m,\u001b[38;5;124m\"\u001b[39m\u001b[38;5;124mDon\u001b[39m\u001b[38;5;124m\"\u001b[39m,\u001b[38;5;124m\"\u001b[39m\u001b[38;5;124mJayesh\u001b[39m\u001b[38;5;124m\"\u001b[39m,\u001b[38;5;28;01mTrue\u001b[39;00m)\n\u001b[1;32m----> 4\u001b[0m tup1[\u001b[38;5;241m1\u001b[39m] \u001b[38;5;241m=\u001b[39m \u001b[38;5;124m\"\u001b[39m\u001b[38;5;124mInsert\u001b[39m\u001b[38;5;124m\"\u001b[39m\n\u001b[0;32m      5\u001b[0m \u001b[38;5;28mprint\u001b[39m(\u001b[38;5;28mtype\u001b[39m(tup),tup)\n",
      "\u001b[1;31mTypeError\u001b[0m: 'tuple' object does not support item assignment"
     ]
    }
   ],
   "source": [
    "# Checking the Tuples Mutablility.\n",
    "\n",
    "tup1 = (1,2,3,\"Don\",\"Jayesh\",True)\n",
    "tup1[1] = \"Insert\"\n",
    "print(type(tup),tup)\n",
    "\n",
    "# Throwback : TypeError: 'tuple' object does not support item assignment\n",
    "# Hence Tuples are immutable."
   ]
  },
  {
   "cell_type": "markdown",
   "metadata": {},
   "source": [
    "#### <u> Tuple Indexes : </u>\n",
    "- Each item/element in a tuple has its own unique index.\n",
    "- This index can be used to access any particular item from the tuple. \n",
    "- The first item has index [0], second item has index [1], third item has index [2] and so on."
   ]
  },
  {
   "cell_type": "code",
   "execution_count": null,
   "metadata": {},
   "outputs": [
    {
     "data": {
      "text/plain": [
       "('Spain', 'Italy', 'India', 'China', 'Japan')"
      ]
     },
     "execution_count": 5,
     "metadata": {},
     "output_type": "execute_result"
    }
   ],
   "source": [
    "#            [0]      [1]      [2]      [4]        [5]\n",
    "country = (\"Spain\", \"Italy\", \"India\", \"China\" , \"Japan\")\n",
    "country\n"
   ]
  },
  {
   "cell_type": "code",
   "execution_count": null,
   "metadata": {},
   "outputs": [
    {
     "name": "stdout",
     "output_type": "stream",
     "text": [
      "Italy\n",
      "('Italy', 'India', 'China', 'Japan')\n"
     ]
    }
   ],
   "source": [
    "#            [0]      [1]      [2]      [4]        [5]\n",
    "country = (\"Spain\", \"Italy\", \"India\", \"China\" , \"Japan\")\n",
    "country\n",
    "print(country[1])     # Access Italy only \n",
    "print(country[1:5])  #  Access from Italy to Japan. \n"
   ]
  },
  {
   "cell_type": "markdown",
   "metadata": {},
   "source": [
    "`II. Negative Indexing:`\n",
    "- Similar to positive indexing, negative indexing is also used to access items, but from the end of the tuple. \n",
    "- The last item has index [-1], second last item has index [-2], third last item has index [-3] and so on."
   ]
  },
  {
   "cell_type": "code",
   "execution_count": null,
   "metadata": {},
   "outputs": [
    {
     "name": "stdout",
     "output_type": "stream",
     "text": [
      "Japan\n",
      "('Italy', 'India', 'China')\n",
      "('Italy', 'India', 'China', 'Japan')\n"
     ]
    }
   ],
   "source": [
    "#           [-5]     [-4]     [-3]     [-2]      [-1]\n",
    "country = (\"Spain\", \"Italy\", \"India\", \"China\" , \"Japan\")\n",
    "country\n",
    "\n",
    "print(country[-1])     #  Access Japan only \n",
    "print(country[-4:-1])  #  Access from Italy to China.   \n",
    "print(country[-4:])    #  Access from Italy to Japan.   "
   ]
  },
  {
   "cell_type": "markdown",
   "metadata": {},
   "source": [
    "`III. Check for item:`\n",
    "- We can check if a given item is present in the tuple. This is done using the `in` keyword."
   ]
  },
  {
   "cell_type": "code",
   "execution_count": 10,
   "metadata": {},
   "outputs": [
    {
     "name": "stdout",
     "output_type": "stream",
     "text": [
      "No, f is not present in the Tuple.\n"
     ]
    }
   ],
   "source": [
    "# Code Explanation is available below:\n",
    "\n",
    "Input = input(\"Enter what you want to check : \")\n",
    "\n",
    "country = (\"Spain\", \"Italy\", 1,2,True, \"China\" , \"Japan\")\n",
    "\n",
    "if Input.isdigit():\n",
    "    Input = int(Input)\n",
    "elif Input.lower() == \"true\":\n",
    "    Input = True\n",
    "elif Input.lower() == \"false\":\n",
    "    Input = False\n",
    "\n",
    "# Check if the user input is present in the list\n",
    "if Input in country:\n",
    "    print(f\"Yes, {Input} is present in the Tuple.\")\n",
    "else:\n",
    "    print(f\"No, {Input} is not present in the Tuple.\")\n",
    " \n"
   ]
  },
  {
   "cell_type": "markdown",
   "metadata": {},
   "source": [
    "The code then checks the user's input to determine its type and converts it accordingly:\n",
    "\n",
    "- `Input.isdigit()` checks if the input consists only of digits (e.g., `\"123\"`). If true, the input is converted to an integer using `int(Input)`.\n",
    "- `Input.lower() == \"true\"` checks if the input is the string `\"true\"` (case insensitive). If true, the input is converted to the boolean `True`.\n",
    "- `Input.lower() == \"false\"` checks if the input is the string `\"false\"` (case insensitive). If true, the input is converted to the boolean `False`.\n",
    "- If none of these conditions are met, `Input` remains a string.\n"
   ]
  },
  {
   "cell_type": "markdown",
   "metadata": {},
   "source": [
    "### Example Scenarios:\n",
    "\n",
    "- **If the user inputs `\"1\"`:**\n",
    "  - It's converted to the integer `1`.\n",
    "  - Since `1` is in the tuple, the output will be `\"Yes, 1 is present in the Tuple.\"`\n",
    "\n",
    "- **If the user inputs `\"True\"`:**\n",
    "  - It's converted to the boolean `True`.\n",
    "  - Since `True` is in the tuple, the output will be `\"Yes, True is present in the Tuple.\"`\n",
    "\n",
    "- **If the user inputs `\"Germany\"`:**\n",
    "  - It remains a string.\n",
    "  - Since `\"Germany\"` is not in the tuple, the output will be `\"No, Germany is not present in the Tuple.\"`\n"
   ]
  },
  {
   "cell_type": "markdown",
   "metadata": {},
   "source": [
    "\n",
    "`IV. Range of Index:`\n",
    "- You can print a range of tuple items by specifying where do you want to start, where do you want to end and if you want to skip elements in between the range.\n",
    "- Synatx : `Tuple[start : end : jumpIndex]`<br>\n",
    "- The sliced portion will be new tuple since tuples are Immuatable."
   ]
  },
  {
   "cell_type": "code",
   "execution_count": 17,
   "metadata": {},
   "outputs": [
    {
     "name": "stdout",
     "output_type": "stream",
     "text": [
      "('bat', 'mouse', 'pig')\n",
      "('cat', 'dog', 'bat', 'mouse', 'pig', 'horse', 'donkey', 'goat', 'cow')\n"
     ]
    }
   ],
   "source": [
    "animals = (\"cat\", \"dog\", \"bat\", \"mouse\", \"pig\", \"horse\", \"donkey\", \"goat\", \"cow\")\n",
    "print(animals[2:5])\n",
    "print(animals)"
   ]
  },
  {
   "cell_type": "code",
   "execution_count": 13,
   "metadata": {},
   "outputs": [
    {
     "name": "stdout",
     "output_type": "stream",
     "text": [
      "('dog', 'pig', 'goat')\n"
     ]
    }
   ],
   "source": [
    "# printing every 3rd consecutive withing given range\n",
    "\n",
    "animals = (\"cat\", \"dog\", \"bat\", \"mouse\", \"pig\", \"horse\", \"donkey\", \"goat\", \"cow\")\n",
    "print(animals[1:8:3])"
   ]
  }
 ],
 "metadata": {
  "kernelspec": {
   "display_name": "base",
   "language": "python",
   "name": "python3"
  },
  "language_info": {
   "codemirror_mode": {
    "name": "ipython",
    "version": 3
   },
   "file_extension": ".py",
   "mimetype": "text/x-python",
   "name": "python",
   "nbconvert_exporter": "python",
   "pygments_lexer": "ipython3",
   "version": "3.11.4"
  }
 },
 "nbformat": 4,
 "nbformat_minor": 2
}
