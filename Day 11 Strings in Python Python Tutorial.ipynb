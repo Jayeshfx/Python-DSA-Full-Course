{
 "cells": [
  {
   "cell_type": "markdown",
   "metadata": {},
   "source": [
    "# Strings in Python | Python Tutorial - Day #11\n",
    "- Repel : https://replit.com/@codewithharry/11-Day11-Strings#main.py"
   ]
  },
  {
   "cell_type": "code",
   "execution_count": 8,
   "metadata": {},
   "outputs": [
    {
     "name": "stdout",
     "output_type": "stream",
     "text": [
      "Jayesh\n",
      " Hello, Large sample size is denoted by \"N\".\n"
     ]
    }
   ],
   "source": [
    "Name = \"Jayesh\"\n",
    "print(Name)\n",
    "\n",
    "# Print This : Hello, Large sample size is denoted by \"N\".\n",
    "\n",
    "# Hint for this use escape sequence (\\) and ' ' instead of \" \"\n",
    "\n",
    "print(' Hello, Large sample size is denoted by \\\"N\".')\n"
   ]
  },
  {
   "cell_type": "code",
   "execution_count": 18,
   "metadata": {},
   "outputs": [
    {
     "name": "stdout",
     "output_type": "stream",
     "text": [
      "My Favourite fruit is Apple and Mango\n",
      "My Favourite fruit is Apple and Mango\n"
     ]
    }
   ],
   "source": [
    "# Connecting strings using Plus operator (+)\n",
    "\n",
    "Fruit1 = \"Apple\"\n",
    "Fruit2 = \"Mango\"\n",
    "print(\"My Favourite fruit is \" + Fruit1 + \" and \" + Fruit2)\n",
    "\n",
    "### OR ALTERBATIVE WAY using commam(,) IS \n",
    "\n",
    "Fruit1 = \"Apple\"\n",
    "Fruit2 = \"Mango\"\n",
    "print(\"My Favourite fruit is\", Fruit1, \"and\", Fruit2)\n",
    "\n"
   ]
  },
  {
   "cell_type": "code",
   "execution_count": 24,
   "metadata": {},
   "outputs": [
    {
     "name": "stdout",
     "output_type": "stream",
     "text": [
      "\n",
      "- Improves overall health\n",
      "- Boosts energy levels\n",
      "- Supports immune function\n",
      "- Aids in weight management\n",
      "- Enhances brain function\n",
      "- Promotes healthy skin\n",
      "- Strengthens bones and muscles\n",
      "- Reduces the risk of chronic diseases\n",
      "- Improves digestion\n",
      "- Enhances mood and mental well-being\n"
     ]
    },
    {
     "data": {
      "text/plain": [
       "'\\n- Improves overall health\\n- Boosts energy levels\\n- Supports immune function\\n- Aids in weight management\\n- Enhances brain function\\n- Promotes healthy skin\\n- Strengthens bones and muscles\\n- Reduces the risk of chronic diseases\\n- Improves digestion\\n- Enhances mood and mental well-being'"
      ]
     },
     "execution_count": 24,
     "metadata": {},
     "output_type": "execute_result"
    }
   ],
   "source": [
    "# Multiple line Print()\n",
    "\n",
    "Para = '''\n",
    "- Improves overall health\n",
    "- Boosts energy levels\n",
    "- Supports immune function\n",
    "- Aids in weight management\n",
    "- Enhances brain function\n",
    "- Promotes healthy skin\n",
    "- Strengthens bones and muscles\n",
    "- Reduces the risk of chronic diseases\n",
    "- Improves digestion\n",
    "- Enhances mood and mental well-being'''\n",
    "\n",
    "print(Para) \n",
    "\n",
    "# Do not use only Para \n",
    "Para"
   ]
  },
  {
   "cell_type": "code",
   "execution_count": 36,
   "metadata": {},
   "outputs": [
    {
     "name": "stdout",
     "output_type": "stream",
     "text": [
      "J\n",
      "h\n",
      "a\n",
      "Jay\n",
      "Jay\n"
     ]
    },
    {
     "ename": "IndexError",
     "evalue": "string index out of range",
     "output_type": "error",
     "traceback": [
      "\u001b[1;31m---------------------------------------------------------------------------\u001b[0m",
      "\u001b[1;31mIndexError\u001b[0m                                Traceback (most recent call last)",
      "Cell \u001b[1;32mIn[36], line 13\u001b[0m\n\u001b[0;32m      9\u001b[0m \u001b[38;5;28mprint\u001b[39m(Name[\u001b[38;5;241m0\u001b[39m:\u001b[38;5;241m3\u001b[39m]) \u001b[38;5;66;03m# extract \"Jay\" letter\u001b[39;00m\n\u001b[0;32m     10\u001b[0m \u001b[38;5;28mprint\u001b[39m(Name[\u001b[38;5;241m-\u001b[39m\u001b[38;5;241m6\u001b[39m:\u001b[38;5;241m-\u001b[39m\u001b[38;5;241m3\u001b[39m]) \u001b[38;5;66;03m# extract \"Jay\" letter using negative\u001b[39;00m\n\u001b[1;32m---> 13\u001b[0m \u001b[38;5;28mprint\u001b[39m(Name[\u001b[38;5;241m450\u001b[39m])\n",
      "\u001b[1;31mIndexError\u001b[0m: string index out of range"
     ]
    }
   ],
   "source": [
    "# Indexing  : It always starts from 0.\n",
    "\n",
    "Name = \"Jayesh\"\n",
    "\n",
    "print(Name[0])   # extract First letter\n",
    "\n",
    "print(Name[-1])  # extract First letter from back\n",
    "print(Name[-5])  # extract Fifth letter from back\n",
    "\n",
    "print(Name[0:3]) # extract \"Jay\" letter\n",
    "print(Name[-6:-3]) # extract \"Jay\" letter using negative\n",
    "\n",
    "\n",
    "print(Name[450])   # Will Throw Index Error\n"
   ]
  },
  {
   "cell_type": "code",
   "execution_count": null,
   "metadata": {},
   "outputs": [],
   "source": []
  }
 ],
 "metadata": {
  "kernelspec": {
   "display_name": "base",
   "language": "python",
   "name": "python3"
  },
  "language_info": {
   "codemirror_mode": {
    "name": "ipython",
    "version": 3
   },
   "file_extension": ".py",
   "mimetype": "text/x-python",
   "name": "python",
   "nbconvert_exporter": "python",
   "pygments_lexer": "ipython3",
   "version": "3.11.4"
  }
 },
 "nbformat": 4,
 "nbformat_minor": 2
}
