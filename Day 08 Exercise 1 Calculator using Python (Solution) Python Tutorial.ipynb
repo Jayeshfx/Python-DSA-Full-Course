{
 "cells": [
  {
   "cell_type": "markdown",
   "metadata": {},
   "source": [
    "# Exercise 1 Calculator (Solution) Python Tutorial - Day #8\n",
    "- Repel : https://replit.com/@codewithharry/08-Day8-Exercise-1-Create-a-Calculator-Solution#main.py"
   ]
  },
  {
   "cell_type": "code",
   "execution_count": null,
   "metadata": {},
   "outputs": [],
   "source": [
    "a = 50\n",
    "b = 3\n",
    "\n",
    "print(\"The value of\", a, \"+\", 3, \"is: \", a + b)\n",
    "print(\"The value of\", a, \"-\", 3, \"is: \", a - b)\n",
    "print(\"The value of\", a, \"*\", 3, \"is: \", a * b)\n",
    "print(\"The value of\", a, \"/\", 3, \"is: \", a / b)"
   ]
  },
  {
   "cell_type": "markdown",
   "metadata": {},
   "source": [
    "VS SHORTCUT : \n",
    "- ALT + SHIFT + Down ( ▼ )    = To copy entire line and paste it below as it is.\n",
    "#\n",
    "- ALT = Use for holding the cursor and text for multiple selection so we can modify at a time.\n",
    "\n"
   ]
  },
  {
   "cell_type": "code",
   "execution_count": null,
   "metadata": {},
   "outputs": [],
   "source": []
  }
 ],
 "metadata": {
  "kernelspec": {
   "display_name": "base",
   "language": "python",
   "name": "python3"
  },
  "language_info": {
   "codemirror_mode": {
    "name": "ipython",
    "version": 3
   },
   "file_extension": ".py",
   "mimetype": "text/x-python",
   "name": "python",
   "nbconvert_exporter": "python",
   "pygments_lexer": "ipython3",
   "version": "3.11.4"
  }
 },
 "nbformat": 4,
 "nbformat_minor": 2
}
