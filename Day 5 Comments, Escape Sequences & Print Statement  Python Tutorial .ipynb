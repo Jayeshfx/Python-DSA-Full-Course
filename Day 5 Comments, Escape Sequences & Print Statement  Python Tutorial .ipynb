{
 "cells": [
  {
   "cell_type": "markdown",
   "metadata": {},
   "source": [
    "Python Tutorial - Day #5\n",
    "- Comments\n",
    "- Escape Sequences \n",
    "- Print Statement | \n"
   ]
  },
  {
   "cell_type": "code",
   "execution_count": null,
   "metadata": {},
   "outputs": [],
   "source": [
    "### Comments\n",
    "\n",
    "### SIngle Line Comments\n",
    "# Single Line Comments need # only.\n",
    "\n",
    "### Multiple Line Comments\n",
    "\n",
    "'''Hi Everyone for \n",
    "Multiple LINE Comments \n",
    "use single inverted'''\n"
   ]
  },
  {
   "cell_type": "code",
   "execution_count": 1,
   "metadata": {},
   "outputs": [
    {
     "name": "stdout",
     "output_type": "stream",
     "text": [
      "There are two types of Gender:\n",
      "\t1. Male\n",
      "\t2. Female\n"
     ]
    }
   ],
   "source": [
    "# \\t (Tab space) \n",
    "# \\n (New line)\n",
    "# How to add tab space in python using \\t\n",
    "\n",
    "print(\"There are two types of Gender:\\n\\t1. Male\\n\\t2. Female\")"
   ]
  },
  {
   "cell_type": "code",
   "execution_count": 5,
   "metadata": {},
   "outputs": [
    {
     "name": "stdout",
     "output_type": "stream",
     "text": [
      "Hello world 5\n",
      "Hello world\n",
      "we got next line 5\n"
     ]
    }
   ],
   "source": [
    "# PRINT STATEMENTS \n",
    "\n",
    "print(\"Hello world\",5)\n",
    "\n",
    "# For next line we use \\ \n",
    "print(\"Hello world\\nwe got next line\",5)"
   ]
  },
  {
   "cell_type": "code",
   "execution_count": 4,
   "metadata": {},
   "outputs": [
    {
     "name": "stdout",
     "output_type": "stream",
     "text": [
      "Jayesh is a good boy\n"
     ]
    }
   ],
   "source": [
    "g = \"good \"\n",
    "print(f\"Jayesh is a {g}boy\")"
   ]
  },
  {
   "cell_type": "code",
   "execution_count": 20,
   "metadata": {},
   "outputs": [
    {
     "name": "stdout",
     "output_type": "stream",
     "text": [
      "1~2~34~567~A~XYZ\n"
     ]
    }
   ],
   "source": [
    "# Use of sepearators.\n",
    "# It seperated values as per given symbol.\n",
    "\n",
    "print(1, 2, 34, 567 ,\"A\", \"XYZ\", sep=\"~\")"
   ]
  },
  {
   "cell_type": "code",
   "execution_count": 41,
   "metadata": {},
   "outputs": [
    {
     "name": "stdout",
     "output_type": "stream",
     "text": [
      "Jayesh is a Boy Sentence finished\n",
      "Any number multiplied by 0 = 0\n",
      "Hey!6!7 end00500"
     ]
    }
   ],
   "source": [
    "# Use of end\n",
    "# It ends the statement with given \"....\".\n",
    "\n",
    "print(\"Jayesh is a Boy \",end=\"Sentence finished\\n\")\n",
    "\n",
    "print(\"Any number multiplied by 0 = \",end=\"0\\n\")\n",
    "\n",
    "print(\"Hey\", 6, 7, sep=\"!\", end=\" end00500\")"
   ]
  },
  {
   "cell_type": "code",
   "execution_count": 36,
   "metadata": {},
   "outputs": [
    {
     "name": "stdout",
     "output_type": "stream",
     "text": [
      "The product of a and b = 500\n",
      "\n",
      "The product of a and b = 60\n"
     ]
    }
   ],
   "source": [
    "# Use of mathematical equation in Print() function\n",
    "\n",
    "a = 10\n",
    "b = 50\n",
    "\n",
    "print(f\"The product of a and b = {a * b}\\n\")\n",
    "print(f\"The product of a and b = {a + b}\")\n",
    "\n"
   ]
  }
 ],
 "metadata": {
  "kernelspec": {
   "display_name": "base",
   "language": "python",
   "name": "python3"
  },
  "language_info": {
   "codemirror_mode": {
    "name": "ipython",
    "version": 3
   },
   "file_extension": ".py",
   "mimetype": "text/x-python",
   "name": "python",
   "nbconvert_exporter": "python",
   "pygments_lexer": "ipython3",
   "version": "3.11.4"
  }
 },
 "nbformat": 4,
 "nbformat_minor": 2
}
