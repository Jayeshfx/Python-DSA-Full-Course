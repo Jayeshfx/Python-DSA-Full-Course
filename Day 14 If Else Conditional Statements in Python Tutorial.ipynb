{
 "cells": [
  {
   "cell_type": "markdown",
   "metadata": {},
   "source": [
    "# If Else Conditional Statements in Python Tutorial - Day #14\n",
    "- Repel : https://replit.com/@codewithharry/14-Day14-If-Else-Conditionals"
   ]
  },
  {
   "cell_type": "markdown",
   "metadata": {},
   "source": [
    "Else Statements :\n",
    "- Sometimes the programmer needs to check the evaluation of certain expression(s), whether the expression(s) evaluate to True or False. \n",
    "- If the expression evaluates to False, then the program execution follows a different path than it would have if the expression had evaluated to True.\n",
    "#\n",
    "Based on this, the conditional statements are further classified into following types:\n",
    "- if\n",
    "- if-else\n",
    "- if-else-elif\n",
    "- nested if-else-elif."
   ]
  },
  {
   "cell_type": "code",
   "execution_count": 14,
   "metadata": {},
   "outputs": [
    {
     "name": "stdout",
     "output_type": "stream",
     "text": [
      "The Number You Entered is 9.0\n",
      "The Number is Less than 100\n"
     ]
    }
   ],
   "source": [
    " # if-else statement Program\n",
    "\n",
    "Num = float(input(\"Enter any value : \"))\n",
    "print(f\"The Number You Entered is {Num}\")\n",
    "\n",
    "if(Num>100):\n",
    "    print(\"The Number is Greater than 100\")\n",
    "else:\n",
    "    print(\"The Number is Less than 100\")    "
   ]
  },
  {
   "cell_type": "code",
   "execution_count": 24,
   "metadata": {},
   "outputs": [
    {
     "name": "stdout",
     "output_type": "stream",
     "text": [
      "The Number You Entered is 8.0\n",
      "The Number is Positive\n"
     ]
    }
   ],
   "source": [
    "# if-elif-else statement Program\n",
    "# If we want to want to evaluate more than one condition, this can be done using an elif statement.\n",
    "\n",
    "try:\n",
    "    Num = float(input(\"Enter any value: \"))\n",
    "    print(f\"The Number You Entered is {Num}\")\n",
    "\n",
    "    if Num > 0:\n",
    "        print(\"The Number is Positive\")\n",
    "    elif Num < 0:\n",
    "        print(\"The Number is Negative\")\n",
    "    else:\n",
    "        print(\"The Number is Zero\")\n",
    "except ValueError:\n",
    "    print(\"Enter Correct Numerical Value\")\n",
    "   "
   ]
  },
  {
   "cell_type": "markdown",
   "metadata": {},
   "source": [
    "Question: \n",
    " - Write a Python program that asks the user to input their age and whether they have a valid driving license. The program should then determine if the user is eligible to drive based on the following conditions:\n",
    "#\n",
    "1. If the user is under 18 years old, they are not eligible to drive.\n",
    "#\n",
    "2. If the user is 18 years old or older:\n",
    "- If they have a valid driving license, they are eligible to drive.\n",
    "- If they don't have a valid driving license, they are not eligible to drive.m"
   ]
  },
  {
   "cell_type": "code",
   "execution_count": 37,
   "metadata": {},
   "outputs": [
    {
     "name": "stdout",
     "output_type": "stream",
     "text": [
      "Invalid input. Please enter a valid age.\n"
     ]
    }
   ],
   "source": [
    "# Nested if statements\n",
    "\n",
    "# Program to check driving eligibility\n",
    "\n",
    "try:\n",
    "    age = int(input(\"Enter your age: \"))\n",
    "    \n",
    "    if age < 18:\n",
    "        print(\"You are not eligible to drive.\")\n",
    "    else:\n",
    "        license_status = input(\"Do you have a valid driving license? (Yes/No): \").strip().lower()\n",
    "        \n",
    "        if license_status == \"yes\":\n",
    "            print(\"You are eligible to drive.\")\n",
    "        else:\n",
    "            print(\"You are not eligible to drive.\")\n",
    "\n",
    "except ValueError:\n",
    "    print(\"Invalid input. Please enter a valid age.\")\n"
   ]
  },
  {
   "cell_type": "code",
   "execution_count": null,
   "metadata": {},
   "outputs": [],
   "source": []
  },
  {
   "cell_type": "code",
   "execution_count": null,
   "metadata": {},
   "outputs": [],
   "source": []
  }
 ],
 "metadata": {
  "kernelspec": {
   "display_name": "base",
   "language": "python",
   "name": "python3"
  },
  "language_info": {
   "codemirror_mode": {
    "name": "ipython",
    "version": 3
   },
   "file_extension": ".py",
   "mimetype": "text/x-python",
   "name": "python",
   "nbconvert_exporter": "python",
   "pygments_lexer": "ipython3",
   "version": "3.11.4"
  }
 },
 "nbformat": 4,
 "nbformat_minor": 2
}
