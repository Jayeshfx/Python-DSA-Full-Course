{
 "cells": [
  {
   "cell_type": "markdown",
   "metadata": {},
   "source": [
    "# Function Arguments in Python | Python Tutorial - Day #21\n",
    "- Repel : https://replit.com/@codewithharry/21-Day-21-Function-Arguments"
   ]
  },
  {
   "cell_type": "markdown",
   "metadata": {},
   "source": [
    "### <u> Function Arguments and return statement </u>\n",
    "There are four types of arguments that we can provide in a function:\n",
    "- Default Arguments\n",
    "- Keyword Arguments\n",
    "- Variable length Arguments\n",
    "- Required Arguments\n"
   ]
  },
  {
   "cell_type": "markdown",
   "metadata": {},
   "source": [
    "<u> 1] Default arguments: </u> <br>\n",
    "- We can provide a default value while creating a function. \n",
    "- This way the function assumes a default value even if a value is not provided in the function call for that argument."
   ]
  },
  {
   "cell_type": "markdown",
   "metadata": {},
   "source": [
    "#### KEYPOINTS TO REMEMBER:\n",
    "- In fucntion if arugument value is indefined so bydefault it considers 1."
   ]
  },
  {
   "cell_type": "code",
   "execution_count": 28,
   "metadata": {},
   "outputs": [
    {
     "name": "stdout",
     "output_type": "stream",
     "text": [
      "The sum is: 30\n",
      "The sum is: 150\n"
     ]
    }
   ],
   "source": [
    "# Default arguments: \n",
    "# We can provide a default value while creating a function. \n",
    "# This way the function assumes a default value even if a value is not provided in the function call for that argument.\n",
    "\n",
    "def sum(a=20, b=10):\n",
    "    return a + b\n",
    "\n",
    "# Example usage\n",
    "print(f\"The sum is: {sum()}\")   # Using the default values.\n",
    "print(f\"The sum is: {sum(a=100 , b=50)}\")   # Passing other value # Overidding"
   ]
  },
  {
   "cell_type": "markdown",
   "metadata": {},
   "source": [
    "<u> 2] Keyword arguments: </u>\n",
    "- We can provide arguments with key = value, this way the interpreter recognizes the arguments by the parameter name. \n",
    "- Hence, the the order in which the arguments are passed does not matter."
   ]
  },
  {
   "cell_type": "code",
   "execution_count": 19,
   "metadata": {},
   "outputs": [
    {
     "name": "stdout",
     "output_type": "stream",
     "text": [
      "The Full Name is Jayesh Sanjay Patil\n"
     ]
    }
   ],
   "source": [
    "# Option 1: Pass specific arguments\n",
    "\n",
    "def Full_name(Surname=\"Patil\", First=\"Jayesh\", Middle=\"Sanjay\"):\n",
    "    return f\"{First} {Middle} {Surname}\"\n",
    "\n",
    "# Pass specific arguments\n",
    "print(f\"The Full Name is {Full_name(First='Jayesh', Middle='Sanjay', Surname='Patil')}\")\n"
   ]
  },
  {
   "cell_type": "code",
   "execution_count": 24,
   "metadata": {},
   "outputs": [
    {
     "name": "stdout",
     "output_type": "stream",
     "text": [
      "The Full Name is Piyush Sanjay Patil\n"
     ]
    }
   ],
   "source": [
    "# Option 2: Use default values but just update the first name.\n",
    "\n",
    "def Full_name(Surname=\"Patil\", First=\"Jayesh\", Middle=\"Sanjay\"):\n",
    "    return f\"{First} {Middle} {Surname}\"\n",
    "\n",
    "# Use default values with the updated 'First' parameter\n",
    "print(f\"The Full Name is {Full_name(First='Piyush')}\")"
   ]
  },
  {
   "cell_type": "markdown",
   "metadata": {},
   "source": [
    "#### <u> Required arguments: </u>\n",
    "- In case we don’t pass the arguments with a key = value syntax, then it is necessary to pass the arguments in the correct positional order and the number of arguments passed should match with actual function definition."
   ]
  },
  {
   "cell_type": "code",
   "execution_count": null,
   "metadata": {},
   "outputs": [],
   "source": [
    "#  In fucntion if arugument value is not passed so it takes by default values.\n",
    "\n",
    "def sum(a, b=10):\n",
    "    return a + b\n",
    "\n",
    "# Example usage\n",
    "print(f\"The sum is: {sum(3,)}\")     # Uses default value for b\n",
    "print(f\"The sum is: {sum(3, 5)}\")   # Overrides default value for b  \n",
    "print(f\"The sum is: {sum(7,)}\")     # Overrides default value for b  \n"
   ]
  },
  {
   "cell_type": "markdown",
   "metadata": {},
   "source": [
    "#### <u> Variable-length arguments: </u>\n",
    "- Sometimes we may need to pass more arguments than those defined in the actual function. This can be done using variable-length arguments.\n",
    "\n",
    "#####  There are two ways to achieve this:\n",
    "1. Arbitrary Arguments: \n",
    "2. Keyword Arbitrary Arguments: \n",
    "\n",
    " <u> 1. Arbitrary Arguments: </u>\n",
    "- While creating a function, pass a * before the parameter name while defining the function. \n",
    "- The function accesses the arguments by processing them in the form of tuple.\n",
    "\n"
   ]
  },
  {
   "cell_type": "code",
   "execution_count": 57,
   "metadata": {},
   "outputs": [
    {
     "name": "stdout",
     "output_type": "stream",
     "text": [
      "The Averge of Number is : 3.3333333333333335\n"
     ]
    }
   ],
   "source": [
    "# Question :  Write a Program to take input in tuple and calculate it's average.\n",
    "\n",
    "def Average(*numbers):   # Below is the explanation for *numbers\n",
    "    sum =0\n",
    "    for i in numbers:\n",
    "        sum = sum+i\n",
    "        average = sum / len(numbers)\n",
    "    return average  \n",
    "\n",
    "# Taking Input\n",
    "Num = tuple(map(int,input(\"The Average of number is : \").split()))\n",
    "\n",
    "# Function Calling\n",
    "print(f\"The Averge of Number is : {Average(*Num)}\")  \n"
   ]
  },
  {
   "cell_type": "markdown",
   "metadata": {},
   "source": [
    "The `*` in `*Num` is used for **unpacking** a tuple (or any iterable) into individual arguments when passing them to a function.\n",
    "\n",
    "#### Explanation:<br>\n",
    "When you have a function like `Average(*numbers)`, it means the function can accept any number of arguments (thanks to the `*numbers` parameter). Inside the function, `numbers` will be a tuple containing all the arguments passed.\n"
   ]
  },
  {
   "cell_type": "markdown",
   "metadata": {},
   "source": [
    "#"
   ]
  },
  {
   "cell_type": "markdown",
   "metadata": {},
   "source": [
    "<u> 2. Keyword Arbitrary Arguments: </u>\n",
    "- While creating a function, pass a * before the parameter name while defining the function. \n",
    "- The function accesses the arguments by processing them in the form of dictionary."
   ]
  },
  {
   "cell_type": "code",
   "execution_count": 65,
   "metadata": {},
   "outputs": [
    {
     "name": "stdout",
     "output_type": "stream",
     "text": [
      "<class 'dict'>\n",
      "Hello, my name is : Piyush Sanjay Patil\n"
     ]
    },
    {
     "data": {
      "text/plain": [
       "{'first_name': 'Piyush', 'Middle_name': 'Sanjay', 'Surname': 'Patil'}"
      ]
     },
     "execution_count": 65,
     "metadata": {},
     "output_type": "execute_result"
    }
   ],
   "source": [
    "# Question :  Write a Program to make function full name using Dictionary.\n",
    "\n",
    "def Full_Name(**names):               # Below is the explanation for **names\n",
    "    print(type(names))\n",
    "    print(\"Hello, my name is :\",names[\"first_name\"],names[\"Middle_name\"],names[\"Surname\"])\n",
    "    return names\n",
    "\n",
    "fname = str(input(\"Enter Your First name : \"))\n",
    "mname = str(input(\"Enter Your Middle name : \"))\n",
    "sname = str(input(\"Enter Your suranme name : \"))\n",
    "\n",
    "Full_Name(first_name=fname,Middle_name=mname,Surname=sname)\n"
   ]
  },
  {
   "cell_type": "markdown",
   "metadata": {},
   "source": [
    "The `**` in `**names` is used for **unpacking** keyword arguments in a function, allowing the function to accept an arbitrary number of keyword arguments as a dictionary.\n",
    "\n",
    "#### Explanation:\n",
    "\n",
    "- When you define a function with `**names`, it allows the function to accept any number of keyword arguments, which are then packed into a dictionary. \n",
    "- The keys of this dictionary will be the argument names (e.g., `first_name`, `Middle_name`, `Surname`), and the values will be the corresponding values passed when calling the function.\n"
   ]
  },
  {
   "cell_type": "markdown",
   "metadata": {},
   "source": [
    "#### <u>return Statement </u>\n",
    "- The return statement is used to return the value of the expression back to the calling function."
   ]
  },
  {
   "cell_type": "code",
   "execution_count": 66,
   "metadata": {},
   "outputs": [
    {
     "name": "stdout",
     "output_type": "stream",
     "text": [
      "Hello, James Buchanan Barnes\n"
     ]
    }
   ],
   "source": [
    "def name(fname, mname, lname):\n",
    "    return \"Hello, \" + fname + \" \" + mname + \" \" + lname\n",
    "\n",
    "print(name(\"James\", \"Buchanan\", \"Barnes\"))"
   ]
  }
 ],
 "metadata": {
  "kernelspec": {
   "display_name": "base",
   "language": "python",
   "name": "python3"
  },
  "language_info": {
   "codemirror_mode": {
    "name": "ipython",
    "version": 3
   },
   "file_extension": ".py",
   "mimetype": "text/x-python",
   "name": "python",
   "nbconvert_exporter": "python",
   "pygments_lexer": "ipython3",
   "version": "3.11.4"
  }
 },
 "nbformat": 4,
 "nbformat_minor": 2
}
