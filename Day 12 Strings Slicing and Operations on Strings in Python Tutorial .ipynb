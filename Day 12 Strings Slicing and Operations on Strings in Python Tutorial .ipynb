{
 "cells": [
  {
   "cell_type": "markdown",
   "metadata": {},
   "source": [
    "# Strings Slicing & Operations on Strings in Python Tutorial Day #12\n",
    "- Repel : https://replit.com/@codewithharry/12-Day12-Strings-Slicing#main.py"
   ]
  },
  {
   "cell_type": "code",
   "execution_count": 8,
   "metadata": {},
   "outputs": [
    {
     "name": "stdout",
     "output_type": "stream",
     "text": [
      "20\n",
      "-\n",
      "Python \n",
      "Python \n",
      "Python - Programming\n"
     ]
    }
   ],
   "source": [
    "Name = \"Python - Programming\"\n",
    "# Find lenght of string\n",
    "print(len(Name))\n",
    "\n",
    "# Extract - using Indexing\n",
    "print(Name[7])\n",
    "\n",
    "# Extract Python using Slicing\n",
    "print(Name[0:7])\n",
    "#OR\n",
    "print(Name[:7])"
   ]
  },
  {
   "cell_type": "code",
   "execution_count": 15,
   "metadata": {},
   "outputs": [
    {
     "name": "stdout",
     "output_type": "stream",
     "text": [
      "22\n",
      "-\n",
      "Research\n"
     ]
    }
   ],
   "source": [
    "OR = \"Operational - Research\"\n",
    "\n",
    "print(len(OR))\n",
    "\n",
    "# Extract - using Negative slicing\n",
    "print(OR[-10])\n",
    "\n",
    "# Print Reserach using neagtive slicing\n",
    "print(OR[-8:])"
   ]
  },
  {
   "cell_type": "code",
   "execution_count": 1,
   "metadata": {},
   "outputs": [
    {
     "name": "stdout",
     "output_type": "stream",
     "text": [
      "ar\n"
     ]
    }
   ],
   "source": [
    "# Quick Quiz:\n",
    "\n",
    "nm = \"Harry\"\n",
    "print(nm[-4:-2])\n"
   ]
  }
 ],
 "metadata": {
  "kernelspec": {
   "display_name": "base",
   "language": "python",
   "name": "python3"
  },
  "language_info": {
   "codemirror_mode": {
    "name": "ipython",
    "version": 3
   },
   "file_extension": ".py",
   "mimetype": "text/x-python",
   "name": "python",
   "nbconvert_exporter": "python",
   "pygments_lexer": "ipython3",
   "version": "3.11.4"
  }
 },
 "nbformat": 4,
 "nbformat_minor": 2
}
