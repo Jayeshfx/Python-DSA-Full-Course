{
 "cells": [
  {
   "cell_type": "markdown",
   "metadata": {},
   "source": [
    "# While Loops in Python | Python Tutorial - Day #18\n",
    "- Repel : https://replit.com/@codewithharry/18-Day18-While-Loops#main.py"
   ]
  },
  {
   "cell_type": "markdown",
   "metadata": {},
   "source": [
    "#### <u> Python while Loop </u>\n",
    "As the name suggests, while loops execute statements while the condition is True.\n",
    "As soon as the condition becomes False, the interpreter comes out of the while loop."
   ]
  },
  {
   "cell_type": "code",
   "execution_count": 5,
   "metadata": {},
   "outputs": [
    {
     "name": "stdout",
     "output_type": "stream",
     "text": [
      "This is the 0 number of iteration of the while Loop\n",
      "\n",
      "This is the 1 number of iteration of the while Loop\n",
      "\n",
      "This is the 2 number of iteration of the while Loop\n",
      "\n",
      "This is the 3 number of iteration of the while Loop\n",
      "\n",
      "This is the 4 number of iteration of the while Loop\n",
      "\n",
      "This is the 5 number of iteration of the while Loop\n",
      "\n"
     ]
    }
   ],
   "source": [
    "# Create a Increment Loop\n",
    "\n",
    "i = 0   # Initialization\n",
    "\n",
    "while(i<=5):  # Condition\n",
    "    print(f\"This is the {i} number of iteration of the while Loop\\n\")\n",
    "    i = i+1   # Increment"
   ]
  },
  {
   "cell_type": "code",
   "execution_count": 19,
   "metadata": {},
   "outputs": [
    {
     "name": "stdout",
     "output_type": "stream",
     "text": [
      "This is the 5 number of iteration of the while Loop\n",
      "\n",
      "This is the 4 number of iteration of the while Loop\n",
      "\n",
      "This is the 3 number of iteration of the while Loop\n",
      "\n",
      "This is the 2 number of iteration of the while Loop\n",
      "\n",
      "This is the 1 number of iteration of the while Loop\n",
      "\n"
     ]
    }
   ],
   "source": [
    "# Create a Decrement Loop\n",
    "\n",
    "i = 5   # Initialization\n",
    "\n",
    "while(i>0):  # Condition\n",
    "    print(f\"This is the {i} number of iteration of the while Loop\\n\")\n",
    "    i = i-1   # Increment"
   ]
  },
  {
   "cell_type": "code",
   "execution_count": 10,
   "metadata": {},
   "outputs": [
    {
     "data": {
      "text/plain": [
       "'\\n\\ncount = 5\\nwhile (count > 0):\\n  print(count)\\n  count = count + 1\\n\\n'"
      ]
     },
     "execution_count": 10,
     "metadata": {},
     "output_type": "execute_result"
    }
   ],
   "source": [
    "# THE INFINITE LOOP PROGRAM.\n",
    "# This program will run indefinitely until it is manually stopped.\n",
    "\n",
    "'''\n",
    "\n",
    "count = 5\n",
    "while (count > 0):\n",
    "  print(count)\n",
    "  count = count + 1\n",
    "\n",
    "'''  "
   ]
  },
  {
   "cell_type": "code",
   "execution_count": 16,
   "metadata": {},
   "outputs": [
    {
     "name": "stdout",
     "output_type": "stream",
     "text": [
      "This Number 8 is less than 80 and Hence the Loop cannot be terminated.\n",
      "This Number 599 is greater than 80 and Hence the Loop can be terminated\n",
      "The Loop is Terminated\n"
     ]
    }
   ],
   "source": [
    "# Question : Write a While Loop Program to take input from user until the user enters the value greater than 80.\n",
    "\n",
    "i = 0\n",
    "while i <= 80:\n",
    "    i = int(input(\"Enter a number: \"))\n",
    "    if(i<=80):\n",
    "        print(f\"This Number {i} is less than 80 and Hence the Loop cannot be terminated.\")\n",
    "    else:\n",
    "        print(f\"This Number {i} is greater than 80 and Hence the Loop can be terminated\")\n",
    "    i = i + 1\n",
    "\n",
    "print(\"The Loop is Terminated\")"
   ]
  },
  {
   "cell_type": "markdown",
   "metadata": {},
   "source": [
    "####  <u> Else with While Loop </u> :\n",
    "- We can even use the else statement with the while loop. <br>\n",
    "- Essentially what the else statement does is that as soon as the while loop condition becomes False, the interpreter comes out of the while loop and the else statement is executed."
   ]
  },
  {
   "cell_type": "code",
   "execution_count": 22,
   "metadata": {},
   "outputs": [
    {
     "name": "stdout",
     "output_type": "stream",
     "text": [
      "This Number 54 is less than 80 and Hence the Loop cannot be terminated.\n",
      "This Number 8 is less than 80 and Hence the Loop cannot be terminated.\n",
      "This Number 875 is less than 80 and Hence the Loop cannot be terminated.\n",
      "This Number 876 is greater than 80 and Hence the Loop can be terminated\n",
      "The Loop is Terminated\n"
     ]
    }
   ],
   "source": [
    "# Alternative Program to Above....\n",
    "# Question : Write a While Loop Program to take input from user until the user enters the value greater than 80.\n",
    "\n",
    "i = 0\n",
    "while i <= 80:\n",
    "    i = int(input(\"Enter a number: \"))\n",
    "    print(f\"This Number {i} is less than 80 and Hence the Loop cannot be terminated.\")\n",
    "    i = i + 1\n",
    "else:\n",
    "    print((f\"This Number {i} is greater than 80 and Hence the Loop can be terminated\"))\n",
    "print(\"The Loop is Terminated\")"
   ]
  },
  {
   "cell_type": "markdown",
   "metadata": {},
   "source": [
    "### <u>  Do-While loop in python: </u>\n",
    " do..while is a loop in which a set of instructions will execute at least once (irrespective of the condition) and then the repetition of loop's body will depend on the condition passed at the end of the while loop. It is also known as an exit-controlled loop.\n",
    "\n",
    "### <u> How to emulate do while loop in python? </u>\n",
    "To create a do while loop in Python, you need to modify the while loop a bit in order to get similar behavior to a do while loop.\n",
    "\n",
    "The most common technique to emulate a do-while loop in Python is to use an infinite while loop with a break statement wrapped in an if statement that checks a given condition and breaks the iteration if that condition becomes true:"
   ]
  },
  {
   "cell_type": "code",
   "execution_count": 28,
   "metadata": {},
   "outputs": [
    {
     "name": "stdout",
     "output_type": "stream",
     "text": [
      "-9\n"
     ]
    }
   ],
   "source": [
    "# Example :\n",
    "\n",
    "while True:\n",
    "  number = int(input(\"Enter a positive number: \"))\n",
    "  print(number)\n",
    "  if number < 0:   # Alternative Code line :-6  if not number > 0:\n",
    "    break"
   ]
  }
 ],
 "metadata": {
  "kernelspec": {
   "display_name": "base",
   "language": "python",
   "name": "python3"
  },
  "language_info": {
   "codemirror_mode": {
    "name": "ipython",
    "version": 3
   },
   "file_extension": ".py",
   "mimetype": "text/x-python",
   "name": "python",
   "nbconvert_exporter": "python",
   "pygments_lexer": "ipython3",
   "version": "3.11.4"
  }
 },
 "nbformat": 4,
 "nbformat_minor": 2
}
